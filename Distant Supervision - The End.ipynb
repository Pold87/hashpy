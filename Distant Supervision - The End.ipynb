{
 "metadata": {
  "name": "",
  "signature": "sha256:6d6ec6a56604e2501f2e82f549c3688bf282f8bac6e9166c4a31df4e644c4a37"
 },
 "nbformat": 3,
 "nbformat_minor": 0,
 "worksheets": [
  {
   "cells": [
    {
     "cell_type": "heading",
     "level": 1,
     "metadata": {},
     "source": [
      "Import"
     ]
    },
    {
     "cell_type": "code",
     "collapsed": false,
     "input": [
      "import os, csv, tweepy, ucto, time\n",
      "import numpy as np\n",
      "import pandas as pd\n",
      "from sklearn.ensemble import ExtraTreesClassifier\n",
      "from sklearn.feature_extraction.text import TfidfTransformer\n",
      "from sklearn.feature_extraction.text import CountVectorizer\n",
      "from sklearn.linear_model import SGDClassifier, LogisticRegression\n",
      "from sklearn.cross_decomposition import PLSRegression\n",
      "from sklearn import tree\n",
      "from sklearn.svm import LinearSVC, NuSVC\n",
      "from sklearn.ensemble import BaggingClassifier\n",
      "from sklearn import metrics\n",
      "from sklearn.grid_search import GridSearchCV\n",
      "from sklearn.pipeline import FeatureUnion\n",
      "from pprint import pprint\n",
      "from sklearn.base import BaseEstimator\n",
      "import pickle\n",
      "from scipy import sparse\n",
      "\n",
      "\n",
      "from sklearn.feature_selection import SelectKBest, chi2\n",
      "from sklearn.linear_model import RidgeClassifier\n",
      "from sklearn.linear_model import SGDClassifier\n",
      "from sklearn.linear_model import Perceptron\n",
      "from sklearn.linear_model import PassiveAggressiveClassifier\n",
      "from sklearn.naive_bayes import MultinomialNB\n",
      "from sklearn.neighbors import NearestCentroid\n",
      "\n",
      "import logging\n",
      "\n",
      "from tweepy.streaming import StreamListener\n",
      "from tweepy import Stream\n",
      "\n",
      "from pynlpl.clients.frogclient import FrogClient"
     ],
     "language": "python",
     "metadata": {},
     "outputs": [],
     "prompt_number": 830
    },
    {
     "cell_type": "heading",
     "level": 2,
     "metadata": {},
     "source": [
      "Settings"
     ]
    },
    {
     "cell_type": "code",
     "collapsed": false,
     "input": [
      "os.chdir(\"/home/pold/PycharmProjects/twitter-tutorial/\")"
     ],
     "language": "python",
     "metadata": {},
     "outputs": [],
     "prompt_number": 831
    },
    {
     "cell_type": "heading",
     "level": 2,
     "metadata": {},
     "source": [
      "General Classifier"
     ]
    },
    {
     "cell_type": "heading",
     "level": 2,
     "metadata": {},
     "source": [
      "Read Aggressive Tweets from TSV files"
     ]
    },
    {
     "cell_type": "code",
     "collapsed": false,
     "input": [
      "def create_key(x):\n",
      "    '''Create a file name from a number'''\n",
      "    return \"tweets/fold_\" + str(x) + \".txt\"\n",
      "\n",
      "# Create a list of file names of the aggressive tweets.\n",
      "files = [create_key(x) for x in xrange(0,10)]\n",
      "\n",
      "# Store everything in a pandas data frame.\n",
      "list = []\n",
      "for file in files:\n",
      "    df = pd.read_table(file,\n",
      "                       names = ('category', 'user', 'date', 'time', 'message'), \n",
      "                       header = None,\n",
      "                       index_col = None)\n",
      "    list.append(df)\n",
      "        \n",
      "frame = pd.concat(list, axis=0, keys = files)"
     ],
     "language": "python",
     "metadata": {},
     "outputs": [],
     "prompt_number": 878
    },
    {
     "cell_type": "heading",
     "level": 2,
     "metadata": {},
     "source": [
      "Use Dutch tokeniser rules"
     ]
    },
    {
     "cell_type": "code",
     "collapsed": false,
     "input": [
      "settingsfile = \"/etc/ucto/tokconfig-nl-twitter\"\n",
      "tokenizer = ucto.Tokenizer(settingsfile)\n",
      "\n",
      "def remove_non_ascii(s):\n",
      "    return \"\".join(i for i in s if ord(i) < 128)\n",
      "\n",
      "def ucto_tokenizer(str):\n",
      "    remove_non_ascii(str)\n",
      "    tokenizer.process(unicode(str))\n",
      "    tokens = [unicode(token).encode('utf-8') for token in tokenizer]\n",
      "    for pos, token in enumerate(tokens): \n",
      "        if token.startswith('http:'): tokens[pos] = 'url'\n",
      "        if token.startswith('@'): tokens[pos] = 'user'\n",
      "    return tokens\n",
      "\n",
      "\n",
      "ucto_tokenizer(\"Was geht #leute #heute @POld hey? http://tinyurl.com/dasd\")"
     ],
     "language": "python",
     "metadata": {},
     "outputs": [
      {
       "metadata": {},
       "output_type": "pyout",
       "prompt_number": 879,
       "text": [
        "['Was', 'geht', '#', 'leute', '#', 'heute', 'user', 'hey', '?', 'url']"
       ]
      }
     ],
     "prompt_number": 879
    },
    {
     "cell_type": "heading",
     "level": 2,
     "metadata": {},
     "source": [
      "Aggressive Hashtags - Wordlist"
     ]
    },
    {
     "cell_type": "code",
     "collapsed": false,
     "input": [
      "# The wordlist is a dictionary of profanity words.\n",
      "wordlists = {}\n",
      "# for name in [\"illness\", \"religion\", \"sexuality\", \"slurs\", \"misc\"]:\n",
      "for name in [\"selection\"]:\n",
      "    with open(\"wordlist_\" + name + \".txt\") as f:\n",
      "        words = f.read().splitlines()\n",
      "        wordlists[name] = words"
     ],
     "language": "python",
     "metadata": {},
     "outputs": [],
     "prompt_number": 880
    },
    {
     "cell_type": "heading",
     "level": 1,
     "metadata": {},
     "source": [
      "Twitter"
     ]
    },
    {
     "cell_type": "heading",
     "level": 2,
     "metadata": {},
     "source": [
      "Authentication"
     ]
    },
    {
     "cell_type": "code",
     "collapsed": false,
     "input": [
      "consumer_key = 'zdprSqld7JxkSjaeqQppemW5y'\n",
      "consumer_secret = 'QMZCPjMZnqJjkXQxXerHGCP11PGXIrl7iXH0HnrlLUjwNVOQdY'\n",
      "access_token = '1612711080-64a9w2e4BOTV4id4HTqLpzaO8Z6ag0pNVE9axZv'\n",
      "access_token_secret = 'iGBJ7jTo7LjqdMWyU8sJT5xX6CllWX0YoeQScYxpbGjMr'"
     ],
     "language": "python",
     "metadata": {},
     "outputs": [],
     "prompt_number": 881
    },
    {
     "cell_type": "heading",
     "level": 2,
     "metadata": {},
     "source": [
      "Connect to Twitter"
     ]
    },
    {
     "cell_type": "code",
     "collapsed": false,
     "input": [
      "auth = tweepy.OAuthHandler(consumer_key, consumer_secret)\n",
      "auth.set_access_token(access_token, access_token_secret)\n",
      "api = tweepy.API(auth)"
     ],
     "language": "python",
     "metadata": {},
     "outputs": [],
     "prompt_number": 882
    },
    {
     "cell_type": "heading",
     "level": 2,
     "metadata": {},
     "source": [
      "Create a Query"
     ]
    },
    {
     "cell_type": "code",
     "collapsed": false,
     "input": [
      "def create_query(wordlist):\n",
      "    return \" OR \".join(wordlist)\n",
      "\n",
      "def create_negate_query(wordlist):\n",
      "    return \" \".join([\"-\" + word for word in wordlist])"
     ],
     "language": "python",
     "metadata": {},
     "outputs": [],
     "prompt_number": 883
    },
    {
     "cell_type": "heading",
     "level": 2,
     "metadata": {},
     "source": [
      "Collect Tweets"
     ]
    },
    {
     "cell_type": "code",
     "collapsed": false,
     "input": [
      "results_aggressive = []\n",
      "results_non_aggressive = []\n",
      "\n",
      "flattened_wordlist = [item for sublist in wordlists.values() for item in sublist]\n",
      "\n",
      "query_pos = create_query(flattened_wordlist)\n",
      "query_neg = create_negate_query(flattened_wordlist)\n",
      "\n",
      "# Aggressive Tweets\n",
      "\n",
      "for tweet in tweepy.Cursor(api.search, q = query_pos,  lang = \"nl\").items(1500):\n",
      "    results_aggressive.append(tweet)\n",
      "    \n",
      "time.sleep(60)\n",
      "\n",
      "# Non-aggressive Tweets\n",
      "\n",
      "for tweet in tweepy.Cursor(api.search, q = query_neg,  lang = \"nl\").items(len(results_aggressive)):\n",
      "    results_non_aggressive.append(tweet)   "
     ],
     "language": "python",
     "metadata": {},
     "outputs": [],
     "prompt_number": 838
    },
    {
     "cell_type": "heading",
     "level": 2,
     "metadata": {},
     "source": [
      "Count Hashtags"
     ]
    },
    {
     "cell_type": "code",
     "collapsed": false,
     "input": [
      "flattened_wordlist = [item for sublist in wordlists.values() for item in sublist]\n",
      "hash_dict = { }\n",
      "\n",
      "for word in flattened_wordlist:\n",
      "    hash_dict[word] = 0\n",
      "\n",
      "for tweet in results_aggressive:\n",
      "    for word in flattened_wordlist:\n",
      "        if word in tweet.text: hash_dict[word] += 1\n",
      "\n",
      "print(len(results_aggressive))\n",
      "print(len(results_non_aggressive))\n",
      "print(hash_dict)"
     ],
     "language": "python",
     "metadata": {},
     "outputs": [
      {
       "output_type": "stream",
       "stream": "stdout",
       "text": [
        "593\n",
        "593\n",
        "{'#idiot': 12, '#fuckyou': 19, '#gvd': 15, '#sukkel': 42, '#grrr': 60, '#idioot': 48, '#grr': 75}\n"
       ]
      }
     ],
     "prompt_number": 885
    },
    {
     "cell_type": "heading",
     "level": 2,
     "metadata": {},
     "source": [
      "Additional Feature Extractor"
     ]
    },
    {
     "cell_type": "code",
     "collapsed": false,
     "input": [
      "# The wordlist is a dictionary of profanity words.\n",
      "badwords = []\n",
      "for name in [\"illness\", \"religion\", \"sexuality\", \"slurs\", \"misc\"]:\n",
      "    with open(\"wordlist_\" + name + \".txt\") as f:\n",
      "        word = f.read().splitlines()\n",
      "        badwords.append(word)\n",
      "        \n",
      "class MyWordCounter(BaseEstimator):\n",
      "    \n",
      "    def __init__(self):\n",
      "        with open(\"my_badlist.txt\") as f:\n",
      "            badwords = [l.strip() for l in f.readlines()]\n",
      "        self.badwords_ = badwords\n",
      "\n",
      "    def fit(self, documents, y=None):\n",
      "        return self\n",
      "\n",
      "    def transform(self, documents):\n",
      "        \n",
      "        n_words = [len(ucto_tokenizer(remove_non_ascii(tweet))) for tweet in documents]\n",
      "        n_chars = [len(tweet) for tweet in documents]\n",
      "        # number of uppercase words\n",
      "\n",
      "        allcaps = [np.sum([w.isupper() for w in comment.split()])\n",
      "               for comment in documents]\n",
      "        \n",
      "        # longest word\n",
      "        max_word_len = [np.max([len(w) for w in c.split()]) for c in documents]\n",
      "        # average word length\n",
      "        mean_word_len = [np.mean([len(w) for w in c.split()])\n",
      "                                            for c in documents]\n",
      "        # number of badwords:\n",
      "        n_bad = [np.sum([c.lower().count(w) for w in self.badwords_])\n",
      "                                                for c in documents]\n",
      "        exclamation = [c.count(\"!\") for c in documents]\n",
      "        addressing = [c.count(\"@\") for c in documents]\n",
      "        spaces = [c.count(\" \") for c in documents]\n",
      "\n",
      "        allcaps_ratio = np.array(allcaps) / np.array(n_words, dtype=np.float)\n",
      "        bad_ratio = np.array(n_bad) / np.array(n_words, dtype=np.float)\n",
      "\n",
      "        return np.array([n_words\n",
      "                         , n_chars\n",
      "                        , allcaps\n",
      "                        , max_word_len\n",
      "                        , mean_word_len\n",
      "                        , exclamation\n",
      "                        , addressing\n",
      "                        , spaces\n",
      "                        , bad_ratio\n",
      "                        , n_bad\n",
      "                        , allcaps_ratio\n",
      "]).T "
     ],
     "language": "python",
     "metadata": {},
     "outputs": [],
     "prompt_number": 842
    },
    {
     "cell_type": "heading",
     "level": 2,
     "metadata": {},
     "source": [
      "Define Pipeline"
     ]
    },
    {
     "cell_type": "code",
     "collapsed": false,
     "input": [
      "with open(\"dutch-stop-words.txt\") as f:\n",
      "    dutch_stop_words = f.read().splitlines()\n",
      "        \n",
      "count_vect = CountVectorizer(stop_words = dutch_stop_words\n",
      "                             , tokenizer = ucto_tokenizer\n",
      "                             , lowercase = True)\n",
      "    \n",
      "my_Counter = MyWordCounter()\n",
      "\n",
      "combined = FeatureUnion([(\"clf1\", count_vect), (\"clf2\", my_Counter)])\n",
      "    \n",
      "tfidf = TfidfTransformer(sublinear_tf = True\n",
      "                        , use_idf = True\n",
      "                        )    \n",
      "\n",
      "\n",
      "clf = LogisticRegression(penalty = 'l2', dual = False)# NuSVC(nu = 0.4) \n",
      "\n",
      "# or logistic regression ! (could be easier and better to explain)\n",
      "\n",
      "from sklearn.pipeline import Pipeline\n",
      "pipeline = Pipeline([('vect', combined),\n",
      "                     ('tfidf', tfidf), \n",
      "                     ('clf', clf)])"
     ],
     "language": "python",
     "metadata": {},
     "outputs": [],
     "prompt_number": 913
    },
    {
     "cell_type": "heading",
     "level": 2,
     "metadata": {},
     "source": [
      "Leave-one-out cross-validation"
     ]
    },
    {
     "cell_type": "code",
     "collapsed": false,
     "input": [
      "accuracy_per_fold = []\n",
      "\n",
      "for x in xrange(0, 10):\n",
      "    train = frame.ix[[create_key(y) for y in range(0,10) if x != y]]\n",
      "#     test = frame.ix[create_key(x)]\n",
      "    \n",
      "    messages_train = train['message']\n",
      "    categories_train = train['category']\n",
      "    \n",
      "    messages_test = test['message']\n",
      "    categories_test = test['category']\n",
      "    \n",
      "    # train classifier \n",
      "    pipeline = pipeline.fit(messages_train, categories_train)\n",
      "    \n",
      "    predicted = pipeline.predict(messages_test)\n",
      "    accuracy = np.mean(predicted == categories_test)\n",
      "    accuracy_per_fold.append(accuracy)\n",
      "    print(accuracy)\n",
      "    \n",
      "print(\"Total average accuracy: \", np.mean(accuracy_per_fold))"
     ],
     "language": "python",
     "metadata": {},
     "outputs": [
      {
       "output_type": "stream",
       "stream": "stdout",
       "text": [
        "0.879365079365\n",
        "0.879365079365"
       ]
      },
      {
       "output_type": "stream",
       "stream": "stdout",
       "text": [
        "\n",
        "0.888888888889"
       ]
      },
      {
       "output_type": "stream",
       "stream": "stdout",
       "text": [
        "\n",
        "0.88253968254"
       ]
      },
      {
       "output_type": "stream",
       "stream": "stdout",
       "text": [
        "\n",
        "0.87619047619"
       ]
      },
      {
       "output_type": "stream",
       "stream": "stdout",
       "text": [
        "\n",
        "0.879365079365"
       ]
      },
      {
       "output_type": "stream",
       "stream": "stdout",
       "text": [
        "\n",
        "0.873015873016"
       ]
      },
      {
       "output_type": "stream",
       "stream": "stdout",
       "text": [
        "\n",
        "0.87619047619"
       ]
      },
      {
       "output_type": "stream",
       "stream": "stdout",
       "text": [
        "\n",
        "0.869841269841"
       ]
      },
      {
       "output_type": "stream",
       "stream": "stdout",
       "text": [
        "\n",
        "0.806349206349"
       ]
      },
      {
       "output_type": "stream",
       "stream": "stdout",
       "text": [
        "\n",
        "('Total average accuracy: ', 0.87111111111111117)\n"
       ]
      }
     ],
     "prompt_number": 914
    },
    {
     "cell_type": "heading",
     "level": 2,
     "metadata": {},
     "source": [
      "Run Classification and Evaluation"
     ]
    },
    {
     "cell_type": "code",
     "collapsed": false,
     "input": [
      "aggressive_train =  [tweet.text for tweet in results_aggressive]\n",
      "non_aggressive_train = [tweet.text for tweet in results_non_aggressive]\n",
      "\n",
      "messages_train = aggressive_train + non_aggressive_train\n",
      "\n",
      "categories_train = ['aggressive'] * len(aggressive_train) \\\n",
      "                 + ['non_aggressive'] * len(non_aggressive_train)\n",
      "\n",
      "pipeline = pipeline.fit(messages_train, categories_train)\n",
      "# \n",
      "accuracy_per_fold = []\n",
      "for x in xrange(0, 10):\n",
      "    test = frame.ix[create_key(x)]\n",
      "    \n",
      "    messages_test = test['message']\n",
      "    categories_test = test['category']\n",
      "  \n",
      "    predicted = pipeline.predict(messages_test)\n",
      "    accuracy = np.mean(predicted == categories_test)\n",
      "\n",
      "    accuracy_per_fold.append(accuracy)  \n",
      "    print(metrics.classification_report(categories_test, predicted))\n",
      "\n",
      "print(\"Total average accuracy: \", np.mean(accuracy_per_fold))\n"
     ],
     "language": "python",
     "metadata": {},
     "outputs": [
      {
       "output_type": "stream",
       "stream": "stdout",
       "text": [
        "             precision    recall  f1-score   support\n",
        "\n",
        " aggressive       0.68      0.78      0.73       158\n",
        "non_aggressive       0.74      0.64      0.68       157\n",
        "\n",
        "avg / total       0.71      0.71      0.71       315\n",
        "\n",
        "             precision    recall  f1-score   support\n",
        "\n",
        " aggressive       0.76      0.72      0.74       158\n",
        "non_aggressive       0.73      0.77      0.75       157\n",
        "\n",
        "avg / total       0.75      0.75      0.75       315\n"
       ]
      },
      {
       "output_type": "stream",
       "stream": "stdout",
       "text": [
        "\n",
        "             precision    recall  f1-score   support\n",
        "\n",
        " aggressive       0.79      0.75      0.77       158\n",
        "non_aggressive       0.76      0.80      0.78       157\n",
        "\n",
        "avg / total       0.77      0.77      0.77       315\n"
       ]
      },
      {
       "output_type": "stream",
       "stream": "stdout",
       "text": [
        "\n",
        "             precision    recall  f1-score   support\n",
        "\n",
        " aggressive       0.72      0.72      0.72       158\n",
        "non_aggressive       0.72      0.72      0.72       157\n",
        "\n",
        "avg / total       0.72      0.72      0.72       315\n"
       ]
      },
      {
       "output_type": "stream",
       "stream": "stdout",
       "text": [
        "\n",
        "             precision    recall  f1-score   support\n",
        "\n",
        " aggressive       0.71      0.77      0.74       158\n",
        "non_aggressive       0.75      0.69      0.72       157\n",
        "\n",
        "avg / total       0.73      0.73      0.73       315\n"
       ]
      },
      {
       "output_type": "stream",
       "stream": "stdout",
       "text": [
        "\n",
        "             precision    recall  f1-score   support\n",
        "\n",
        " aggressive       0.70      0.75      0.72       157\n",
        "non_aggressive       0.73      0.68      0.70       158\n",
        "\n",
        "avg / total       0.71      0.71      0.71       315\n"
       ]
      },
      {
       "output_type": "stream",
       "stream": "stdout",
       "text": [
        "\n",
        "             precision    recall  f1-score   support\n",
        "\n",
        " aggressive       0.66      0.76      0.71       157\n",
        "non_aggressive       0.72      0.62      0.67       158\n",
        "\n",
        "avg / total       0.69      0.69      0.69       315\n"
       ]
      },
      {
       "output_type": "stream",
       "stream": "stdout",
       "text": [
        "\n",
        "             precision    recall  f1-score   support\n",
        "\n",
        " aggressive       0.70      0.71      0.71       133\n",
        "non_aggressive       0.71      0.70      0.71       135\n",
        "\n",
        "avg / total       0.71      0.71      0.71       268\n"
       ]
      },
      {
       "output_type": "stream",
       "stream": "stdout",
       "text": [
        "\n",
        "             precision    recall  f1-score   support\n",
        "\n",
        " aggressive       0.68      0.73      0.70       154\n",
        "non_aggressive       0.72      0.67      0.69       158\n",
        "\n",
        "avg / total       0.70      0.70      0.70       312\n"
       ]
      },
      {
       "output_type": "stream",
       "stream": "stdout",
       "text": [
        "\n",
        "             precision    recall  f1-score   support\n",
        "\n",
        " aggressive       0.70      0.74      0.72       157\n",
        "non_aggressive       0.73      0.69      0.71       158\n",
        "\n",
        "avg / total       0.71      0.71      0.71       315\n"
       ]
      },
      {
       "output_type": "stream",
       "stream": "stdout",
       "text": [
        "\n",
        "('Total average accuracy: ', 0.71949747599001335)\n"
       ]
      }
     ],
     "prompt_number": 915
    },
    {
     "cell_type": "code",
     "collapsed": false,
     "input": [
      "interactive_test = [raw_input('Please type message that should be categorized: ')]\n",
      "\n",
      "train = frame.ix[[create_key(y) for y in range(0,10)]]\n",
      "    \n",
      "messages_train = train['message']\n",
      "categories_train = train['category']\n",
      "    \n",
      "# train classifier \n",
      "pipeline = pipeline.fit(messages_train, categories_train)\n",
      "\n",
      "predicted = pipeline.predict(interactive_test)\n",
      "print(predicted)"
     ],
     "language": "python",
     "metadata": {},
     "outputs": [
      {
       "name": "stdout",
       "output_type": "stream",
       "stream": "stdout",
       "text": [
        "Please type message that should be categorized: eikel\n"
       ]
      },
      {
       "output_type": "stream",
       "stream": "stdout",
       "text": [
        "['non_aggressive']\n"
       ]
      }
     ],
     "prompt_number": 924
    },
    {
     "cell_type": "heading",
     "level": 2,
     "metadata": {},
     "source": [
      "Inspect Bag of Words"
     ]
    },
    {
     "cell_type": "code",
     "collapsed": false,
     "input": [
      "matrix = count_vect.fit_transform(messages_train, categories_train)\n",
      "freqs = [(word, matrix.getcol(idx).sum()) for word, idx in count_vect.vocabulary_.items()]\n",
      "#sort from largest to smallest\n",
      "print sorted (freqs, key = lambda x: -x[1])"
     ],
     "language": "python",
     "metadata": {},
     "outputs": [
      {
       "output_type": "stream",
       "stream": "stdout",
       "text": [
        "[('user', 814), ('url', 517), ('...', 199), ('fuck', 156), ('(', 155), (')', 154), ('kleur', 152), ('jaar', 128), ('je', 124), ('land', 123), ('woonplaats', 121), ('geaardheid', 121), ('!', 116), ('haat', 115), ('liselore', 114), ('netherlands', 112), ('\\xe2\\x80\\xa6', 109), ('bisexueel', 105), ('\"', 91), ('?', 89), ('sex', 68), ('porn', 66), ('grrr', 66), ('webcamsex', 60), ('love', 57), ('groningen', 57), ('sukkel', 57), ('..', 57), ('35', 57), ('idioot', 52), ('22', 51), ('xxbellaxx', 50), ('teen', 50), ('cum', 46), (',:', 45), ('weer', 40), ('blonde', 39), ('....', 39), ('mee', 38), ('nude', 37), ('/', 37), ('racisme', 37), ('manshahgd', 36), ('britritaora', 36), ('\\xf0\\x9f\\x98\\x82', 35), ('bruin', 35), ('vinden', 34), ('anderen', 33), ('lees', 33), ('vindt', 33), ('hate', 31), ('gewoon', 31), ('hij', 31), ('behang', 30), ('klaagt', 30), ('vlaams', 30), ('leden', 30), ('ervan', 30), ('rotterdam', 29), ('gaan', 28), ('fiona', 28), ('31', 27), ('lekker', 26), ('kleu', 26), ('ellys', 26), ('fuckyou', 25), ('gaat', 25), ('25', 25), ('man', 25), ('hot', 24), ('2', 24), ('anal', 24), ('weg', 24), ('1', 23), ('allen', 23), (\"z'n\", 23), ('stoppen', 23), ('&', 23), ('zullen', 22), ('\\xe2\\x80\\x99', 22), ('vandaag', 21), ('doe', 21), ('goed', 21), ('mag', 21), ('gangbang', 21), ('\\xe2\\x80\\x98', 21), ('erotic', 20), ('video', 20), ('the', 19), ('komt', 19), ('haa', 18), ('gvd', 18), ('sexy', 18), ('funny', 18), ('!!!', 17), ('3', 17), ('islam', 17), ('mensen', 17), ('http', 17), ('ogen', 17), ('g', 16), ('hetero', 16), ('cybersex', 16), ('rekentoets', 16), ('echt', 15), ('houdbaar', 15), ('amsterdam', 15), ('oa', 15), ('kl.', 15), ('x', 15), ('pvv', 15), ('vo-raad', 15), ('achterlijke', 15), ('brandbrief', 15), ('grr', 15), ('\\xe2\\x80\\x9c', 15), ('omg', 14), ('nooit', 14), ('belgi\\xc3\\xab', 14), ('zwart', 14), ('_', 14), ('idiot', 14), ('wordt', 14), ('ga', 14), ('morgen', 14), ('\\xe2\\x80\\x9d', 14), ('school', 13), ('rood', 13), ('kijken', 13), ('welkam\\xf0\\x9f\\x8e\\x89\\xf0\\x9f\\x8e\\x89', 13), ('nieuwe', 13), ('toe', 13), ('smofc', 13), ('gelderland', 13), ('waar', 12), ('haha', 12), ('super', 12), ('dicht', 12), ('aflevering', 12), ('4', 12), ('amp', 12), ('via', 12), ('20', 12), ('by', 12), ('2015', 12), ('|', 12), ('bijna', 12), ('!!', 12), ('zet', 11), ('ligt', 11), ('problemen', 11), ('grootste', 11), ('jij', 11), ('bontinck', 11), ('asscher', 11), ('\\xf0\\x9f\\x98\\x8d', 11), ('blond', 11), ('facebook', 11), ('gezocht', 10), ('even', 10), ('nsfw', 10), ('hoor', 10), ('zoals', 10), ('xxx', 10), ('zoon', 10), ('orde', 10), ('successen', 10), ('klijnsma', 10), ('pvda', 10), ('videos', 10), ('5', 10), ('rijn', 10), ('maken', 10), ('from', 10), ('dijsselbloem', 10), ('pvda-bewindslieden', 10), ('charliehebdo', 10), (\"zo'n\", 10), ('hahaha', 10), ('wet', 10), ('heel', 10), ('nederland', 10), ('boos', 10), ('meglena', 9), ('wtf', 9), ('toegevoegd', 9), ('onderwijs', 9), ('htt', 9), ('brussel', 9), ('vanhengel', 9), ('beguinage', 9), ('zit', 9), ('odessa', 9), ('geldkraan', 9), ('azur', 9), ('uur', 9), ('vol', 9), ('bourgeois', 9), ('youtube-afspeellijst', 9), ('zotter', 9), ('doet', 9), ('zaken', 9), ('ukraine', 9), ('bruges', 9), ('begijnhof', 9), ('net', 8), ('waarom', 8), ('free', 8), ('n', 8), ('niks', 8), ('hand', 8), ('a', 8), ('=', 8), ('moskee', 8), ('trein', 8), ('onze', 8), ('laten', 8), ('weet', 8), ('tijd', 8), ('gezoc', 8), ('leven', 8), ('rijden', 8), ('nl', 8), ('^^', 8), ('vrouw', 8), ('he', 8), ('ging', 7), ('liefde', 7), ('adult', 7), ('basispakket', 7), ('r_de_collier', 7), ('hebt', 7), ('mindfuck', 7), ('survival', 7), ('check', 7), ('roepen', 7), ('meneer', 7), ('nie', 7), ('leuk', 7), ('week', 7), ('ns', 7), ('rutte', 7), ('verraad', 7), ('to', 7), ('ff', 7), ('staat', 7), ('7', 7), ('vind', 7), ('alleen', 7), ('zien', 7), (':-)', 7), ('paar', 7), ('lt', 7), ('facialed', 7), ('arabisch', 7), ('jou', 7), ('kickx', 7), ('dag', 7), ('fucked', 7), ('wekelijks', 7), ('nee', 6), ('slapen', 6), ('word', 6), ('vragen', 6), ('delutte', 6), ('binnen', 6), ('gt', 6), ('och', 6), ('leren', 6), ('nummer', 6), ('terwijl', 6), ('ie', 6), ('klaar', 6), ('rebelde', 6), ('bla', 6), (\"m'n\", 6), ('zelfs', 6), ('vondy', 6), ('mooi', 6), ('brittney', 6), ('km', 6), ('\\xf0\\x9f\\x98\\xad', 6), ('gezellig', 6), ('nieuws', 6), ('water', 6), ('ziek', 6), ('*', 6), ('ameen', 6), ('gelukkig', 6), ('staan', 6), ('terug', 6), ('keer', 6), ('beter', 6), ('tessa', 6), ('h', 6), ('036', 6), ('i', 6), ('you', 6), ('kevin_dooms', 6), ('hd', 6), ('slaap', 6), ('examen', 5), ('swag-cap', 5), ('mn', 5), ('gebeurt', 5), ('my', 5), ('vrienden', 5), ('koning', 5), ('wilders', 5), ('da', 5), ('omw', 5), ('kik', 5), ('huis', 5), ('hard', 5), ('hoooorrrr', 5), ('later', 5), (':(', 5), ('treinen', 5), ('!!!!', 5), ('live', 5), ('tja', 5), ('college', 5), ('and', 5), ('german', 5), ('moslims', 5), ('arendo_dino', 5), ('mollers', 5), ('snapchat', 5), ('kwijt', 5), ('geleden', 5), ('kinderen', 5), ('vanavond', 5), ('jaaaa', 5), ('6', 5), ('hele', 5), ('kom', 5), ('outdoor', 5), ('\\xf0\\x9f\\x98\\xab', 5), ('pc', 5), ('controversi\\xc3\\xable', 5), ('moment', 5), ('leraren', 5), ('soms', 5), ('mede', 5), ('elkaar', 5), ('russian', 5), ('handgebaren', 5), ('halen', 5), ('zeggen', 5), ('fokop', 5), ('onder', 5), ('k', 4), ('erg', 4), ('vvd', 4), ('top', 4), ('tref', 4), ('nederlandse', 4), ('webcam', 4), ('twee', 4), ('best', 4), ('moest', 4), ('website', 4), ('vva', 4), ('o', 4), ('music', 4), ('amateur', 4), (\"'t\", 4), (':)', 4), ('milf', 4), ('abdullah', 4), ('volgen', 4), ('getlaid', 4), ('st', 4), ('years', 4), ('nou', 4), ('10', 4), ('zeker', 4), ('alle', 4), ('s', 4), ('hetzelfde', 4), ('volgens', 4), ('nemen', 4), ('woord', 4), ('oh', 4), ('achter', 4), ('with', 4), ('mooie', 4), ('nederlands', 4), ('.....', 4), ('charlie', 4), ('bloggers', 4), ('gangbanged', 4), ('mongool', 4), ('zorg', 4), ('dood', 4), ('jouwvrijheidmijnvrijheid', 4), ('fb', 4), ('terzaketv', 4), ('\\xf0\\x9f\\x98\\x8b', 4), ('kind', 4), ('laat', 4), ('c', 4), ('stilte-coup\\xc3\\xa9-isering', 4), ('game', 4), ('mature', 4), ('willen', 4), ('vrijheid', 4), ('zenvo', 4), ('gg', 4), ('dailytiger', 4), ('middag', 4), ('zie', 4), ('zin', 4), ('genoeg', 4), (\"foto's\", 4), ('bent', 4), ('ander', 4), ('watch', 4), ('horny', 4), ('pussy', 4), ('\\xe2\\x82\\xac', 4), ('beginnen', 4), ('min', 4), ('gedaan', 4), ('wi', 4), ('helpen', 4), ('brieven', 4), ('twitter', 4), ('ligt-ie', 4), ('islamofoben', 4), ('drukker', 4), ('behalve', 4), ('eerste', 3), ('tweet', 3), ('weten', 3), ('gemaakt', 3), ('opmerking', 3), ('doden', 3), ('insta', 3), ('gezicht', 3), ('vriendin_van', 3), ('niemand', 3), ('beauty', 3), ('recht', 3), ('blanke', 3), ('terreur', 3), ('fifa', 3), ('eigen', 3), ('geven', 3), ('blijkbaar', 3), ('terroristen', 3), ('\\xf0\\x9f\\x91\\x8f', 3), ('bombardementen', 3), ('jonge', 3), ('niet-gediscrimineerde', 3), ('droplul', 3), ('kut', 3), ('fcopiyi', 3), ('belangrijk', 3), ('effe', 3), ('stop', 3), ('begrip', 3), ('schaam', 3), ('bekend-walgelijk', 3), ('soort', 3), ('enz.', 3), ('buiten', 3), ('youtube-video', 3), ('denk', 3), ('terrorisme', 3), ('kraantjeswater', 3), ('breivik', 3), ('werkt', 3), ('for', 3), ('inspiratie', 3), ('zus', 3), ('tijdens', 3), ('fucking', 3), ('shit', 3), ('ni', 3), ('leenstelsel', 3), ('eindigt', 3), ('dance', 3), ('per', 3), ('beste', 3), ('uh', 3), ('goes', 3), ('eigenlijk', 3), ('sweg', 3), ('kijk', 3), ('voorstelling', 3), ('??', 3), ('140', 3), ('?!', 3), ('sy', 3), ('so', 3), ('hou', 3), ('kocak', 3), ('not', 3), ('name', 3), ('werken', 3), ('kent', 3), ('\\xf0\\x9f\\x92\\x9c', 3), ('facking', 3), ('kobane', 3), ('ek', 3), ('horen', 3), ('200', 3), ('tellman', 3), ('24', 3), ('zoveel', 3), ('29', 3), ('64', 3), ('discriminatie', 3), ('zweten', 3), ('w', 3), ('cock', 3), ('6e7', 3), ('bootyful', 3), ('eerst', 3), ('\\xe2\\x9d\\xa4', 3), ('moe', 3), ('on', 3), ('o.', 3), ('jagen', 3), ('ok', 3), ('dikke', 3), ('lang', 3), ('dagen', 3), ('mick', 3), ('film', 3), ('hebdo', 3), ('speelt', 3), ('vacature', 3), ('public', 3), ('leiders', 3), ('valt', 3), ('\\xf0\\x9f\\x99\\x8b', 3), ('\\xf0\\x9f\\x99\\x8c', 3), ('850', 3), ('laatste', 3), ('saudi-arabi\\xc3\\xab', 3), ('jullie', 3), ('grote', 3), ('natuurlijk', 3), ('vergelijkt', 3), ('\\xf0\\x9f\\x98\\x92', 3), ('\\xf0\\x9f\\x98\\x89', 3), ('\\xf0\\x9f\\x98\\x83', 3), ('handen', 3), ('\\xf0\\x9f\\x98\\x90', 3), ('vorige', 3), ('zegt', 3), ('\\xf0\\x9f\\x91\\x8c', 3), ('b', 3), ('trofee', 3), ('jongens', 3), ('bellen', 3), ('geld', 3), ('belt', 3), ('rij', 3), ('skype', 3), ('monroe', 3), ('probeert', 3), ('0', 3), ('9', 3), ('lutterleppel', 3), ('christelijke', 3), ('boek', 3), ('gelovigen', 3), ('app', 3), ('wereldbeker', 3), ('betalen', 3), ('annu', 3), ('gestolen', 3), ('burgemeester', 3), ('gevallen', 3), ('link', 3), ('gevoel', 3), ('gezien', 3), ('politie', 3), ('tprrockinrio', 3), ('oetlul', 3), ('moslimterroristen', 3), ('wereld', 3), ('36', 3), ('bluemonday', 3), ('senior', 3), ('niettedrienkn', 3), ('2014', 3), ('bye', 3), ('gered', 3), ('auto', 3), ('allemaal', 3), ('vak', 3), ('verjaardag', 3), ('drinken', 3), ('hj', 3), ('jan', 3), ('bezig', 3), ('zeveraar', 3), ('islamophobie', 3), ('islamophobia', 3), ('stats', 3), ('gekregen', 3), ('wilt', 3), ('zielig', 3), ('heismanwatchlist', 3), ('happy', 3), ('gets', 3), (':p', 3), ('utrecht', 3), ('kloe', 3), ('home', 3), ('overleden', 3), ('lezen', 3), ('bus', 3), ('helemaal', 3), ('sokkel', 3), ('slaat', 3), ('reclame', 3), ('\\xd0\\xb4\\xd0\\xb5\\xd0\\xb2\\xd1\\x83\\xd1\\x88\\xd0\\xba\\xd0\\xb8', 2), ('hoezo', 2), ('plezier', 2), ('ochtend', 2), ('voed', 2), ('grapje', 2), ('sl\\xc3\\xa9chte', 2), ('bestuur', 2), ('\\xd0\\xbb\\xd0\\xb5\\xd1\\x81\\xd0\\xb1\\xd0\\xb8', 2), ('eindelijk', 2), ('hijzich', 2), ('aub', 2), ('100', 2), ('functie', 2), ('maakt', 2), ('feelings', 2), ('brooke', 2), ('straf', 2), ('encryptie', 2), ('woorden', 2), ('gebeurd', 2), ('mm', 2), ('syriegangers', 2), ('kikme', 2), ('bewust', 2), ('kwam', 2), ('boete', 2), ('religie', 2), ('schieten', 2), ('wins', 2), ('enige', 2), ('banged', 2), ('politiek', 2), ('vast', 2), ('fik', 2), ('hidden', 2), ('sommige', 2), ('zaait', 2), ('afzaal', 2), ('woef', 2), ('!!!!!', 2), ('goe', 2), ('foto', 2), ('tcot', 2), ('rekening', 2), ('nv_zon', 2), ('hoop', 2), ('\\xf0\\x9f\\x91\\xaf', 2), ('\\xc3\\xa9', 2), ('tov', 2), ('begaan', 2), ('\\xf0\\x9f\\x91\\x8d', 2), ('jessie', 2), ('komen', 2), ('brokje', 2), ('puur', 2), ('duits', 2), ('mannen', 2), ('natuurlijke', 2), ('kleine', 2), ('lijkt', 2), ('thema', 2), ('stom', 2), ('19', 2), ('fail', 2), ('soep', 2), ('wb', 2), ('elk', 2), ('groene', 2), ('afgemaakt', 2), ('erdogan', 2), ('vrouwen', 2), ('\\xef\\xb8\\x8f', 2), ('pyjamabroek', 2), ('cam', 2), ('maandag', 2), ('noem', 2), ('neem', 2), ('succes', 2), ('daarom', 2), ('it', 2), ('onsixnsisjsjjs', 2), ('gekut', 2), ('aalsmeer', 2), ('probleem', 2), ('slechts', 2), ('just', 2), ('hahahha', 2), ('????', 2), ('thanks', 2), ('anders', 2), ('yes', 2), ('5e', 2), ('julia', 2), ('\\xd1\\x8d\\xd1\\x80\\xd0\\xbe\\xd1\\x82\\xd0\\xb8\\xd0\\xba\\xd0\\xb0', 2), ('old', 2), ('begin', 2), ('nowplaying', 2), ('stoken', 2), ('lief', 2), ('liet', 2), ('hallo', 2), ('waard', 2), ('spreekt', 2), ('isis', 2), ('nieuwsuur', 2), ('trance', 2), ('pagina', 2), ('accounting', 2), ('no', 2), ('ne', 2), ('toegankelijkheid', 2), ('diep', 2), ('indianporn', 2), (\"'n\", 2), ('weekend', 2), ('sanne', 2), ('90', 2), ('tussen', 2), ('jynx', 2), ('din', 2), ('work', 2), ('kwamen', 2), ('praktijk', 2), ('stuurt', 2), ('voelen', 2), ('ontzettend', 2), ('vaders', 2), ('oren', 2), ('eeuwenoud', 2), ('interracial', 2), ('letitburn', 2), ('\\xd1\\x81\\xd0\\xb5\\xd0\\xba\\xd1\\x81', 2), ('begi', 2), ('aanslag', 2), ('vrije', 2), ('fokdeblok', 2), ('mac', 2), ('hardleers', 2), ('q', 2), ('kutsysteem', 2), ('bestaat', 2), ('draait', 2), ('cute', 2), ('whats', 2), ('britten', 2), ('hiddencams', 2), ('half', 2), ('now', 2), ('nos', 2), ('jihadistische', 2), ('avond', 2), ('telefoon', 2), ('steven', 2), ('eu', 2), ('kant', 2), ('dutch', 2), ('desianal', 2), ('krijgt', 2), ('rotterdamse', 2), ('open', 2), ('leegte', 2), ('bijzonder', 2), ('zucht', 2), ('13', 2), ('12', 2), ('15', 2), ('opstaan', 2), ('kerstboom', 2), ('vooral', 2), ('new', 2), ('zojuist', 2), ('buitenlanders', 2), ('nodig', 2), ('dick', 2), ('get', 2), ('gek', 2), ('manager', 2), ('opstelten', 2), ('aanval', 2), ('getackeld', 2), ('teens', 2), ('amateurhour', 2), ('krijg', 2), ('wheels', 2), ('gangnam', 2), ('60', 2), ('snel', 2), ('tuurlijk', 2), ('\\xd1\\x81\\xd0\\xb8\\xd1\\x81\\xd1\\x8c\\xd0\\xba\\xd0\\xb8', 2), ('hardcore', 2), ('irrelevant', 2), ('zuigen', 2), ('z\\xc3\\xb3', 2), ('woont', 2), ('ivm', 2), ('binnenkort', 2), ('bang', 2), ('model', 2), ('9925', 2), ('vent', 2), ('gehad', 2), ('tweede', 2), ('chelsea-speler', 2), ('asot', 2), ('blog', 2), ('pro_respect', 2), ('blok', 2), ('tits', 2), ('mol', 2), ('t', 2), ('vk.c', 2), ('kennen', 2), ('naam', 2), ('conclusie', 2), ('gewonnen', 2), ('huilen', 2), ('graag', 2), ('ofzo', 2), ('heet', 2), ('spelen', 2), ('spotten', 2), ('her', 2), ('wilde', 2), ('there', 2), ('overheid', 2), ('parkeert', 2), ('start', 2), ('maurice_m', 2), ('hen', 2), ('ah', 2), ('samenvatting', 2), ('aangehouden', 2), ('partijen', 2), ('event', 2), ('juist', 2), ('that', 2), ('t\\xc3\\xbcv', 2), ('voetbal', 2), ('zetten', 2), ('bruiner', 2), ('tv', 2), ('vs', 2), ('-4', 2), ('geenopvoeding', 2), ('walterzinzen', 2), ('stront', 2), ('hout', 2), ('studenten', 2), ('claimen', 2), ('dek', 2), ('geilen', 2), ('ft', 2), ('pas', 2), ('https://t.co/ybrckuupxi', 2), ('style', 2), ('21', 2), ('nicoolasbeg', 2), ('immigratie', 2), ('dig', 2), ('idee', 2), ('haatpraat', 2), ('uitermate', 2), ('gisteren', 2), ('ass', 2), ('aangeven', 2), ('ding', 2), ('wanneer', 2), ('zn', 2), ('bestellen', 2), ('\\xf0\\x9f\\x98\\x9c', 2), ('part', 2), ('jordan', 2), ('emoties', 2), ('dossier', 2), ('kapot', 2), ('utopia', 2), ('\\xf0\\x9f\\x98\\xa1', 2), ('dtv', 2), ('militairen', 2), ('rol', 2), ('oops', 2), ('kam', 2), ('afbeelding', 2), ('afgeschaft', 2), ('hardste', 2), ('blondie', 2), ('berichten', 2), ('cda', 2), ('snapsex', 2), ('hip', 2), ('gratis', 2), ('lieten', 2), ('eruit', 2), ('lachen', 2), ('lopopular', 2), ('moeten', 2), ('are', 2), ('grijze', 2), ('gister', 2), ('hottie', 2), ('nickx', 2), ('skypesex', 2), ('hekel', 2), ('last', 2), ('ergens', 2), ('huxly', 2), ('vans', 2), ('giere', 2), ('vant', 2), ('5ee', 2), ('echte', 2), ('geweldig', 2), ('afzeiken', 2), ('gent', 2), ('mejorparejacombate', 2), ('ready', 2), ('afstand', 2), ('iedere', 2), ('gelijk', 2), ('jdjjdjd', 2), ('euro', 2), ('parijs', 2), ('stellen', 2), ('y', 2), ('godver', 2), ('armin', 2), ('vrouwontvriendelijke', 2), ('d', 2), ('eet', 2), ('ivan', 2), ('streaming', 2), ('energie', 2), ('bv', 2), ('bish', 2), ('70', 2), ('uitzetten', 2), ('malicia', 2), ('andy', 2), ('2de', 2), ('\\xe2\\x99\\xa1', 2), ('m', 2), ('geest', 2), ('hond', 2), ('vou', 2), ('club', 2), ('zondag', 2), ('beledigd', 2), ('ziet', 2), ('verhaal', 2), ('e', 2), ('verder', 2), ('at', 2), ('michael', 2), ('vele', 2), ('denkt', 2), ('rotten', 2), ('tijgerpakkie', 2), ('voelt', 2), ('domme', 2), ('30', 2), ('likeadam', 2), ('hahahahaha', 2), ('hippie', 2), ('dienstencheques', 2), ('baby', 2), ('buuren', 2), ('account', 2), ('engels', 2), ('kost', 2), ('zetel', 2), ('wolf', 2), ('hoger', 2), ('hahahaha', 2), ('ben.', 2), ('chief', 2), ('desiaunty', 2), ('z\\xe2\\x80\\x99n', 2), ('gehaald', 2), (';)', 2), ('ontvolgen', 2), ('tyler', 2), ('bukakke', 2), ('oud', 2), ('moeite', 2), ('miljoen', 2), ('bad', 2), ('stuk', 2), ('ns_online', 2), ('ericgarner', 2), ('fyck', 2), ('keef', 2), ('vallen', 2), ('app-ontwikkelaars', 2), ('art', 2), ('permalink', 2), ('cartoonist', 2), ('mannetje', 2), ('mis', 2), (';-)', 2), ('ingesloten', 2), ('grond', 2), ('ontgrendelen', 2), ('winner', 2), ('lemme', 2), ('eerder', 2), ('jaloezie', 2), ('vies', 2), ('patrikvonw', 2), ('geholpen', 2), ('kwassa', 2), ('ken', 2), ('muur', 2), ('hakken', 2), ('ramp', 2), ('voordat', 2), ('gekocht', 2), ('cz', 2), ('bangvoornattehandjes', 2), ('optekenen', 2), ('erin', 2), ('gezichts', 2), ('skypeseks', 2), ('romeo', 2), ('tegelijkertijd', 2), ('onde', 2), ('lelijk', 2), ('stoep', 2), ('vooruit', 2), ('day', 2), ('add', 2), ('nauwgezet', 2), ('sterker', 2), ('facial', 2), ('piet', 2), ('like', 2), ('jojanneke', 2), ('verdomme', 2), ('heen', 2), ('elke', 2), ('hair', 2), ('meest', 2), ('doel', 2), ('emwhst', 2), ('world', 2), ('column', 2), ('studiovoetbal', 2), ('uniteblue', 2), ('touchid', 2), ('hy', 2), ('brand', 2), ('echter', 2), ('continu', 2), ('bug', 2), ('josh', 2), ('haat-liefderelatie', 2), ('tientallen', 2), ('muziek', 2), ('out', 2), ('veehaan', 2), ('stad', 2), ('laptopoplader', 1), ('diovan', 1), ('dylan_rgd', 1), ('pardon', 1), ('7.15', 1), ('wisten', 1), ('oghakijv', 1), ('nwe', 1), ('fout', 1), ('koning_frank', 1), ('vorig', 1), ('swag', 1), ('seizoensfinales', 1), ('buddy', 1), ('voorzitter', 1), ('westerharmonie', 1), ('lijn', 1), ('biber', 1), ('bike', 1), ('parkeergedrag', 1), ('satinet', 1), ('mogen', 1), ('tightsex', 1), ('flapdrol', 1), ('internet', 1), ('opschonenmaar', 1), ('leggings', 1), ('retweetig', 1), ('traceert', 1), ('zonin', 1), ('straat', 1), ('fous', 1), ('nitwit-met-headsetje', 1), ('bastard', 1), ('oooh', 1), ('schoot', 1), ('kerkhof', 1), ('aanzetten', 1), ('marjo_is_here', 1), ('bacon', 1), ('fuckdate', 1), ('toiletpapier', 1), ('schreeuwen', 1), ('evilangel', 1), ('zwerfkat', 1), ('cesar', 1), ('kckckv', 1), ('meedoet', 1), ('liedje', 1), ('pijn', 1), ('+', 1), ('gemengde', 1), ('fetish', 1), ('moge', 1), ('connor_s', 1), ('specialist', 1), ('trainertweets', 1), ('trotse', 1), ('medelijden', 1), ('nuit', 1), ('gejaagd', 1), ('ballislife', 1), ('meu', 1), ('\\xe2\\x9d\\xa4\\xef\\xb8\\x8f', 1), ('sprakeloos', 1), ('mes', 1), ('uitzending', 1), ('gasten', 1), ('afleest', 1), ('ijskoude', 1), ('bzndj', 1), ('zoekt', 1), ('ballbusters', 1), ('schut', 1), ('route-planner', 1), ('morar', 1), ('bussen', 1), ('bro', 1), ('ebony', 1), ('zoie', 1), ('hoezee', 1), ('dnb', 1), ('tl', 1), ('belvoordeel.nl', 1), ('aanrader', 1), ('deelt', 1), ('call', 1), ('preview', 1), ('type', 1), ('tell', 1), ('bikkel', 1), ('omerisgoren', 1), ('keeskoolen', 1), ('mary_annl', 1), ('99', 1), ('leest', 1), ('warm', 1), ('mevrouw', 1), ('92', 1), ('airco', 1), ('wenen', 1), ('trots', 1), ('ml', 1), ('meezinger', 1), ('brindame', 1), ('\\xf0\\x9f\\x91\\x8d\\xf0\\x9f\\x91\\x8d', 1), ('blijfmaardaar', 1), ('trusten', 1), ('roos', 1), ('89e', 1), ('vraagt', 1), ('thickhair', 1), ('aantrekken', 1), ('schoonmoeder', 1), ('neemt', 1), ('stommen', 1), ('chataar', 1), ('nofun', 1), ('farce', 1), ('ruime', 1), ('verschil', 1), ('id', 1), ('how', 1), ('getsome', 1), ('fantastisch', 1), ('operatie', 1), ('haterz', 1), ('banengroei', 1), ('lan', 1), ('bakkerijtje', 1), ('voorbeeld', 1), ('bday', 1), ('lag', 1), ('waarnemend', 1), ('drenthe', 1), ('geluidsopname', 1), ('lesbian', 1), ('dichtbij', 1), ('waarop', 1), ('......', 1), ('wint', 1), ('tweetal', 1), ('moedig', 1), ('verkeerde', 1), ('valse', 1), ('schaap', 1), ('wine', 1), ('ijhs', 1), ('nogal', 1), ('woedend', 1), ('\\xe2\\x9d\\x97\\xef\\xb8\\x8f', 1), ('weken', 1), ('telecom', 1), ('iqwv', 1), ('ontwikkelingen', 1), ('regenachtig', 1), ('fcdenhaag', 1), ('libische', 1), ('samenleving', 1), ('japan', 1), ('behandeling', 1), ('6.8', 1), ('bang_amber', 1), ('tweetcaster', 1), ('noemt', 1), ('gente', 1), ('positivethoughts', 1), ('luchtdruk', 1), ('afweet', 1), ('gents', 1), ('geklaard', 1), ('paarse', 1), ('theo', 1), ('bant', 1), ('them', 1), ('persoon', 1), ('connectief', 1), ('weetjes', 1), ('limburgers', 1), ('twitr', 1), ('hiring', 1), ('onverwachte', 1), (':((', 1), ('shadows', 1), ('twat', 1), ('beperking', 1), ('vilisxmd', 1), ('--', 1), ('overstroming', 1), ('wens', 1), ('mean', 1), ('vochtig', 1), ('heelhardhuilenineenhoekje', 1), ('series', 1), ('vandag', 1), ('kwetsen', 1), ('zuip', 1), ('aanpassing', 1), ('halbe', 1), ('driving', 1), ('god', 1), ('ha', 1), ('acteur', 1), ('re', 1), ('48el', 1), ('inchecken', 1), ('ervaring', 1), ('harry_styles', 1), ('vroeg', 1), ('parkeervak', 1), ('knie', 1), ('hoodie', 1), ('notmyfight', 1), ('ntb', 1), ('soundcloud', 1), ('\\xf0\\x9f\\x94\\xa5\\xf0\\x9f\\x94\\xa5\\xf0\\x9f\\x92\\x80heavy', 1), ('kappers', 1), ('fuckit', 1), ('adblock', 1), ('piepen', 1), ('nooissss', 1), ('lesbiansonly', 1), ('filter', 1), ('louk', 1), ('atr', 1), ('mve', 1), ('martijn', 1), ('verwijder', 1), ('irati_bilbo', 1), ('politicus', 1), ('nha', 1), ('royaal', 1), ('dirtykik', 1), ('omdss', 1), ('duurzaamheid', 1), ('legde', 1), ('scissors', 1), ('shoppen', 1), ('kikmessenger', 1), ('hoog', 1), ('\\xc2\\xa8gaweg', 1), ('huidverjonging', 1), ('rond', 1), ('poging', 1), ('too', 1), ('tom', 1), ('\\xf0\\x9f\\x91\\x8b', 1), ('tof', 1), ('jfjf', 1), ('akelig', 1), ('gym', 1), ('iritante', 1), ('direct', 1), ('devan', 1), ('woordje', 1), ('trek', 1), ('kreeg', 1), ('wawrinka', 1), ('werewolf', 1), ('girlsonly', 1), ('buitendienst', 1), ('fashion', 1), ('vastgelopen', 1), ('koolmees', 1), ('streep', 1), ('23.01.2015', 1), ('gingen', 1), ('receptie', 1), ('.20', 1), ('dragen', 1), ('knallen', 1), ('mehhhh', 1), ('ouat', 1), ('client', 1), ('ingrown', 1), ('doors', 1), ('velsen-noord', 1), ('nen', 1), ('\\xc3\\xb8degaard', 1), ('grijpt', 1), ('ebook', 1), ('dochterlief', 1), ('-5.6', 1), ('oost', 1), ('lovefrenchies', 1), ('kwast', 1), ('goedwillige', 1), ('dol', 1), ('metal', 1), ('genegeerd', 1), ('entertaining', 1), ('gemotiveerd', 1), ('queen', 1), ('horeca', 1), ('pkk', 1), ('dicked', 1), ('nadeel', 1), ('bedoeling', 1), ('agressief', 1), ('buss', 1), ('centraal', 1), ('kopfschmerzen', 1), ('shoptip', 1), ('rice', 1), ('dwdd', 1), ('vreemden', 1), ('bloed', 1), ('jcargan', 1), ('kleedhokje', 1), ('absoluut', 1), ('roderick_online', 1), ('stol', 1), ('hitone', 1), ('rotten-meier', 1), ('dx', 1), ('dy', 1), ('teamleider', 1), ('dr', 1), ('eitaa', 1), ('weallwegot', 1), ('racismisajoke', 1), ('bat', 1), ('bar', 1), ('bas', 1), ('girlproblems', 1), ('gauw', 1), ('cabine', 1), ('vrijdagmorgen', 1), ('koppenhouden', 1), ('cijfer', 1), ('widm', 1), ('bak', 1), ('bah', 1), ('schaal', 1), ('tob\\xc3\\xa9-coburn', 1), ('trainingsvelden', 1), ('nut', 1), ('valsartan', 1), ('goodnight', 1), ('materialen', 1), ('benieuwd', 1), ('07', 1), ('premie', 1), ('whaat', 1), ('bier', 1), ('teleurgesteld', 1), ('gezamenlijke', 1), ('dader', 1), ('nieuwsbrief', 1), ('pfft', 1), ('verwijderd', 1), ('artikel', 1), ('wa', 1), ('doei', 1), ('weak', 1), ('wachtte', 1), ('mailen', 1), ('hornysnapchat', 1), ('17.15', 1), ('wp', 1), ('fns', 1), ('waneer', 1), ('cod', 1), ('dafalgan', 1), ('roelof_v', 1), ('dezelfde', 1), ('lenses', 1), ('ervaren', 1), ('tong', 1), ('ingelaten', 1), ('giftgiver', 1), ('0e1', 1), ('vijf', 1), ('discussie', 1), ('agenten', 1), ('aangezet', 1), ('zaten', 1), ('vereniging', 1), ('zenders', 1), ('frl', 1), ('beer', 1), ('jackass', 1), ('hijs', 1), ('life', 1), ('helaas', 1), ('\\xf0\\x9f\\x90\\xb9', 1), ('\\xf0\\x9f\\x90\\xbe', 1), ('vrij', 1), ('dave', 1), ('allaaaaah', 1), ('lauren', 1), ('haters', 1), ('whatsapp', 1), ('voeg', 1), ('verschijnt', 1), ('tim_geelen', 1), ('vandaan', 1), ('aim', 1), ('forse', 1), ('\\xf0\\x9f\\x90\\x86', 1), ('gerhard', 1), ('aandoen', 1), ('ix', 1), ('075', 1), ('zeg', 1), ('devan_holmes', 1), ('iw', 1), ('vrtjournaal', 1), ('im', 1), ('indeed', 1), ('opgesprongen', 1), ('jesse.de', 1), ('\\xf0\\x9f\\x8e\\xb6', 1), ('oplaad', 1), ('bemoei', 1), ('molbekk', 1), ('hoofdstuk', 1), ('hahah', 1), ('fokking', 1), ('vijfhonderdachtenzestig', 1), ('stuntman', 1), ('\\xf0\\x9f\\x91\\x8b\\xf0\\x9f\\x92\\x83\\xf0\\x9f\\x92\\x81', 1), ('plaats', 1), ('wheel', 1), ('sectorvoorzitter', 1), ('nii', 1), ('cadeau', 1), ('toelating', 1), ('strenger', 1), ('positieve', 1), ('heeyyyyyyyyyy', 1), ('karelgeenen', 1), ('schuldenstelsel', 1), ('kaarten', 1), ('vragenformulier', 1), ('schokkend', 1), ('arab', 1), ('vanochtend', 1), ('nozem', 1), ('micaviciconte', 1), ('luistertoets', 1), ('schelden', 1), ('jon', 1), ('afspraak', 1), ('gevoelens', 1), ('drie', 1), ('triple-platina-plaat', 1), ('mic', 1), ('gezet', 1), ('boyhood', 1), ('yea', 1), ('photo', 1), ('edsheeran', 1), ('parool', 1), ('sleepy', 1), ('beetje', 1), ('quotes', 1), ('klikken', 1), ('repost', 1), ('kortste', 1), ('typisch', 1), ('ezel', 1), ('mix', 1), ('bnr', 1), ('marianne', 1), ('thaisssss', 1), ('schiereiland', 1), ('spread', 1), ('langeraar', 1), ('cruijff', 1), ('vier-clicks-diep', 1), ('juiste', 1), ('ieuw', 1), ('zuur', 1), ('oranjelaan', 1), ('followback', 1), ('tsja', 1), ('streik', 1), ('newcastle', 1), ('cape', 1), ('mitchel', 1), ('ikmoetstuderen', 1), ('heerlijke', 1), ('goednieuws', 1), ('50', 1), ('xbox', 1), ('nighs', 1), ('night', 1), ('gewerkt', 1), ('hystereo', 1), ('kosten', 1), ('vriendlief', 1), ('fuuuuuck', 1), ('kuisen', 1), ('monteur', 1), ('6,3', 1), ('nieuwhuis', 1), ('cnv', 1), ('ioadjasiofjmqwlfkwjmsfqwlfjq', 1), ('fod', 1), ('ykq', 1), ('tracker', 1), ('uma', 1), ('cnn', 1), ('uitgelokt', 1), ('ict', 1), ('stupidamericans', 1), ('saaai', 1), ('smullers', 1), ('bieberbestfans', 1), ('byebyebusiness', 1), ('zdwtpqge', 1), ('sieraden', 1), ('dierenwelzijn', 1), ('willeke', 1), ('manmanman', 1), ('dinner', 1), ('aha', 1), ('scheren', 1), ('down', 1), ('doodziek', 1), ('weetje', 1), ('samen', 1), ('rotte', 1), ('koud', 1), ('zaterdag', 1), ('yh_dre', 1), ('extremisme', 1), ('omda', 1), ('support', 1), ('hahahhahahahhahahahahhahaha', 1), ('factions', 1), ('gij', 1), ('gefaald', 1), ('eventing', 1), ('paypal', 1), ('zouden', 1), ('perfumed', 1), ('leider', 1), ('zever', 1), ('toetsweek', 1), ('analyst', 1), ('kamperen', 1), ('congratulations', 1), ('tinychat', 1), ('!?...', 1), ('r.i.p', 1), ('kindjes', 1), ('idontwanttoliveonthisplanetanymore', 1), ('preventa', 1), ('3.3', 1), ('harten', 1), ('mamablog', 1), ('moord', 1), ('moderne', 1), ('zeno', 1), ('molt', 1), ('zondagochtend', 1), ('geoppert', 1), ('telegraaf.nl', 1), ('vakantie', 1), ('nj', 1), ('broer', 1), ('andermans', 1), ('aandacht', 1), ('tis', 1), ('peerde', 1), ('jong', 1), ('digital', 1), ('6e.', 1), ('tie', 1), ('developers', 1), ('tia', 1), ('welfoordieteringzooinu', 1), ('update', 1), ('ongeveer', 1), ('15e', 1), ('ebay_us', 1), (\"'m\", 1), ('died', 1), ('spookte', 1), ('richting', 1), ('verzekeraar', 1), ('religieus', 1), ('6ez', 1), ('steeds', 1), ('slaped', 1), (':))', 1), ('saudiarabi\\xc3\\xab', 1), (':*', 1), ('payforplay', 1), ('huddinge', 1), ('arom', 1), ('namens', 1), ('ror', 1), ('rot', 1), ('brugge', 1), ('uitvoering', 1), ('molenaar', 1), ('ver', 1), ('gezeik', 1), ('zonk', 1), ('thumma', 1), ('dieren', 1), ('hskxbslsmdosbkzkdkshajdvhxvc', 1), ('volgers', 1), ('jsjdjhdjejeejjs', 1), ('bvlgonzo', 1), ('josten', 1), ('jerk', 1), ('pompen', 1), ('jessiej', 1), ('ma', 1), ('toevoegd', 1), ('cnsnhsridalsjwja', 1), ('wijkmanager', 1), ('asdvvnmkl', 1), ('tns', 1), ('speciale', 1), ('careerbuilder', 1), ('sarcasme', 1), ('gun', 1), ('teat', 1), ('bigboobs', 1), ('schijthebbenaantrends', 1), ('gelukzak', 1), ('correctie', 1), ('betreft', 1), ('piet_heyn', 1), ('balen', 1), ('gijzeling', 1), ('kontje', 1), ('mi', 1), ('zorgde', 1), ('sdaron', 1), ('tom_lietaert', 1), ('gehinderd', 1), ('houten', 1), ('mt', 1), ('zeiken', 1), ('e\\xc3\\xa9n', 1), ('koken', 1), ('hairy', 1), ('wjnmk', 1), ('moorestown', 1), ('lange', 1), ('french', 1), ('liefhebben', 1), ('masmeijertjes', 1), ('dongeert', 1), ('gesneeuwd', 1), ('schaadt', 1), ('langs', 1), ('wijsmaken', 1), ('box', 1), ('boy', 1), ('aerotek', 1), ('bot', 1), ('bon', 1), ('alleml', 1), ('weird', 1), ('handschoenen', 1), ('massage', 1), ('merels', 1), ('fjfjf', 1), ('extra', 1), ('gebeurtenissen', 1), ('enorme', 1), ('kinderbescherming', 1), ('overname', 1), ('stings', 1), ('beeld', 1), ('horizontale', 1), ('everybody', 1), ('hogenhout', 1), ('tafel', 1), ('basisschool', 1), ('1,99', 1), ('regel', 1), ('iphone', 1), ('https', 1), ('fondsenwerving', 1), ('today', 1), ('stemverklaring', 1), ('kerry', 1), ('cojones', 1), ('goten', 1), ('ooi', 1), ('nijkerk', 1), ('sit', 1), ('dimitribontinck', 1), ('carice', 1), ('looool', 1), ('\\xc3\\xa9\\xc3\\xa9n', 1), ('gultepe', 1), ('pakaals', 1), ('kikdirty', 1), ('following', 1), ('straffem', 1), ('tranu', 1), ('gezichtje', 1), ('moslim', 1), ('fucj', 1), ('seweek', 1), ('liesveld', 1), ('droppen', 1), ('drama', 1), ('schrikt', 1), ('boekdelen', 1), ('winter', 1), ('helden', 1), ('gebruik', 1), ('ffdeq', 1), ('fps', 1), ('indiana', 1), ('boreded', 1), ('edinburgh', 1), ('ohhowilovemaths', 1), ('studeren', 1), ('overtuigd', 1), ('\\xe2\\x9d\\xa4\\xef\\xb8\\x8fydvrc\\xe2\\x88\\x9eaamp\\xe2\\x9d\\xa4\\xef\\xb8\\x8f', 1), ('birthday', 1), ('end', 1), ('invullen', 1), ('april', 1), ('groningse', 1), ('onderling', 1), ('spannend', 1), ('fuzgfplmfjlmpw', 1), ('ondernemers', 1), ('sc', 1), ('se', 1), ('sportverkiezing', 1), ('gelegen', 1), ('ergernissen', 1), ('blocker', 1), ('yvonne', 1), ('kluts', 1), ('brain', 1), ('tth', 1), ('gefrustreerd', 1), ('ikhebhetverprutst', 1), ('generaliseert', 1), ('mamamoose_be', 1), ('police', 1), ('afvevhtbrenhtev', 1), ('narcose', 1), ('touwtjes', 1), ('aviv', 1), ('vertellen', 1), ('syri\\xc3\\xab', 1), ('zorgsector', 1), ('samsung_nl', 1), ('maarmijnvakantieniet', 1), ('whyywuwk', 1), ('af-s', 1), ('muita', 1), ('memorabele', 1), ('tunesi\\xc3\\xab', 1), ('january', 1), ('werkte', 1), ('honkey', 1), ('tijdje', 1), ('zoveelste', 1), ('opvolging', 1), ('januari', 1), ('em', 1), ('uhuu', 1), ('hiezo', 1), ('eh', 1), ('zoonlief', 1), ('tegenkomen', 1), ('individu', 1), ('afschriften', 1), ('fever', 1), ('iritatiefactortje', 1), ('okay', 1), ('kans', 1), ('album', 1), ('houopman', 1), ('saharra', 1), ('puntjes', 1), ('seriously', 1), ('correct', 1), ('vormgeving', 1), ('900063237890074590641148399637865', 1), ('gepland', 1), ('oude', 1), ('inhalen', 1), ('wijf', 1), ('argh', 1), ('ajax', 1), ('rebel', 1), ('ori', 1), ('duwen', 1), ('spanningen', 1), ('bichij', 1), ('training', 1), ('dietry', 1), ('ck', 1), ('afspreken', 1), ('overigens', 1), ('frieden', 1), ('raleigh', 1), ('raes', 1), ('\\xf0\\x9f\\x92\\x81', 1), ('geloof', 1), ('kwartier', 1), ('tennis', 1), ('zak', 1), ('kappen', 1), ('zag', 1), ('kerst', 1), ('ona', 1), ('xd', 1), ('blokken', 1), ('executie', 1), ('zat', 1), ('kapper', 1), ('politieke', 1), ('zap', 1), ('engineer', 1), ('stigmatiseren', 1), ('schoonbroer', 1), ('mediamarkt_nl', 1), ('jaartje', 1), ('checken', 1), ('regenen', 1), ('bijgeloof', 1), ('stijl', 1), ('white', 1), ('las', 1), ('ofda', 1), ('meme', 1), ('mqfh', 1), ('pomp', 1), ('gedraagt', 1), ('huh', 1), ('blacklist', 1), ('danny', 1), ('lacht', 1), ('krilleer', 1), ('14', 1), ('16', 1), ('slagroom', 1), ('18', 1), ('evellaplay', 1), ('44ei', 1), ('thebe', 1), ('demorgen', 1), ('professionalin', 1), ('onbeperkt', 1), ('sulz', 1), ('\\xf0\\x9f\\x8e\\xa7', 1), ('slap', 1), ('jiamii', 1), ('gebeuren', 1), ('comedian', 1), ('duit', 1), ('hoeveel', 1), ('onwetendheid', 1), ('openheid', 1), ('\\xf0\\x9f\\x8e\\x89', 1), ('hoosiers', 1), ('paktige', 1), ('\\xf0\\x9f\\x8e\\x81', 1), ('zon', 1), ('mr.', 1), ('verkloten', 1), ('afgelopen', 1), ('geenzin', 1), ('201', 1), ('203', 1), ('printer', 1), ('aanleiding', 1), ('mxdsbeer', 1), ('jijkijktnooitapp', 1), ('vloekerdevloekerdevloek', 1), ('queenx', 1), ('arabische', 1), (']', 1), ('verdienen', 1), ('wc-papier', 1), ('praat', 1), ('150122', 1), ('anker', 1), ('uurtjes', 1), ('stockings', 1), ('professional', 1), ('loira', 1), ('chinasoap', 1), ('shop', 1), ('hottie142241@hotmail.com', 1), ('olha', 1), ('kende', 1), ('imytoo', 1), ('steiert', 1), ('wantjenegeerdme', 1), ('luidruchtige', 1), ('mister', 1), ('mysha_x', 1), ('crashing', 1), ('gert', 1), ('spuitbus', 1), ('jdjsuahsbdjshwhcdhebdhidjsbwkwsidhdbuudbeihebchdsjwnxusjsixjdjsjdidjdk', 1), ('wood', 1), ('black', 1), ('overstappen', 1), ('geworden', 1), ('oordoppenin', 1), ('martijngarritse', 1), ('whaahahahaha', 1), ('dyx', 1), ('voorop', 1), ('uitleg', 1), ('gef', 1), ('derken', 1), ('gej', 1), ('rodpsv', 1), ('nl.', 1), ('omron', 1), ('prima', 1), ('pimp', 1), ('alkmaar', 1), ('schrijf', 1), ('hahahahahhahaha', 1), ('pauze', 1), ('schatz', 1), ('zolang', 1), ('druuuuuunk', 1), ('instructiefilmp', 1), ('gepast', 1), ('ricci', 1), ('boeit', 1), ('julianstravitz', 1), ('collega', 1), ('1924', 1), ('yeahyeah', 1), ('surgery', 1), ('erica', 1), ('kmoe', 1), ('maand', 1), ('leinikeer', 1), ('verboden', 1), ('icantbreathe', 1), ('label', 1), ('trouwfeest', 1), ('totbijna', 1), ('bijdragen', 1), ('jobs', 1), ('lopen', 1), ('vriend', 1), ('beeldscherm', 1), ('jn', 1), ('jo', 1), ('bedreiging', 1), ('jj', 1), ('matchfixen', 1), ('tub', 1), ('dommelen', 1), ('openbare', 1), ('realiteit', 1), ('schrijft', 1), ('wapa', 1), ('23', 1), ('stukje', 1), ('remake', 1), ('mann', 1), ('duty', 1), ('gevolgd', 1), ('jammer', 1), ('hvj', 1), ('mails', 1), ('zodat', 1), ('pop', 1), ('whenjesussaysyes', 1), ('3000', 1), ('66', 1), ('geschiedenis', 1), ('overleg', 1), ('mense', 1), ('snapte', 1), ('west', 1), ('jonh', 1), ('consultancy', 1), ('tousensemble', 1), ('mars', 1), ('com_fifa', 1), ('eelco', 1), ('pannenkoek', 1), ('grondwetbescherming', 1), ('compleet', 1), ('plakken', 1), ('goede', 1), ('nikon', 1), ('expressweg', 1), ('wilco', 1), ('^', 1), ('vergeten', 1), ('viam\\xc3\\xa3o', 1), ('jongmal', 1), ('oppssn', 1), ('ij', 1), ('formulier', 1), ('.......??', 1), ('gekotst', 1), ('eik', 1), ('bewaakt', 1), ('foxxx', 1), ('netjes', 1), ('4de', 1), ('brom', 1), ('bron', 1), ('aboutaleb', 1), ('vond', 1), ('stoort', 1), ('activity', 1), ('medewerker', 1), ('rtv_rijnmond', 1), ('prodiel', 1), ('lamme', 1), ('vaderlief', 1), ('\\xe2\\x9d\\xa4\\xef\\xb8\\x8fgirls\\xe2\\x9d\\xa4\\xef\\xb8\\x8f', 1), ('doctor', 1), ('media', 1), ('onbeantwoord', 1), ('pepe', 1), ('zonweringsbranche', 1), ('dacht', 1), ('ceo', 1), ('opdoken', 1), ('pad', 1), ('aaaaaaf', 1), ('harrie', 1), ('praktijkvoorbeeld', 1), ('boven', 1), ('...!!', 1), ('nagels', 1), ('wees', 1), ('oois', 1), ('ooit', 1), ('hahahahahhaahahaha', 1), ('conservatieve', 1), ('breda', 1), ('doetbestpijn', 1), ('vannacht', 1), ('groetjes', 1), ('oke', 1), ('kempenaar', 1), ('summer', 1), ('wolfenstein', 1), ('\\xe2\\x98\\xba\\xef\\xb8\\x8f', 1), ('dsaaaaar', 1), ('bieten', 1), ('rest', 1), ('uiringen', 1), ('gaten', 1), ('leef', 1), ('snowboarder', 1), ('parkeerwachter', 1), ('overtuigingskracht', 1), ('andries', 1), ('ineens', 1), ('moulin_mari', 1), ('ca', 1), ('libi', 1), ('bindweefsel', 1), ('ananninga', 1), ('erbij', 1), ('early', 1), ('eerdaags', 1), ('hoera', 1), ('marokko', 1), ('erachter', 1), ('spellen', 1), ('deislamiseren', 1), ('mof', 1), ('twitteren', 1), ('krokante', 1), ('utopianl', 1), ('63', 1), ('ni\\xc3\\xa9t', 1), ('sjeik', 1), ('elastiekje', 1), ('vanmorgen', 1), ('simulator', 1), ('beveiliging', 1), ('anshof', 1), ('hoesjes', 1), ('idsjfijds', 1), ('stopt', 1), ('ieder', 1), ('overstap', 1), ('kamer', 1), ('eigenhandig', 1), ('schoften', 1), ('achterbakse', 1), ('freeb', 1), ('upskirt', 1), ('zaanseschans', 1), ('hierbij', 1), ('eabsjsbsjn', 1), ('snapchatme', 1), ('tv.', 1), ('awino', 1), ('afrikaans', 1), ('thankyoubasedgod', 1), ('speler', 1), ('stond', 1), ('schrijver', 1), ('ach', 1), ('hoorzeerdoorheen', 1), ('staart', 1), ('feit', 1), ('wiskundeknobbel', 1), ('verdoen', 1), ('backup', 1), ('05:45', 1), ('ladies', 1), ('garnet', 1), ('kikmeimwet', 1), ('welke', 1), ('aahahahaha', 1), ('kroop', 1), ('kankeyts', 1), ('gigantische', 1), ('your', 1), ('slecht', 1), ('matige', 1), ('eraan', 1), ('unitedvansen', 1), ('racism', 1), ('ymar', 1), ('https://t.co/s2wgnxshre', 1), ('hel', 1), ('ehm', 1), ('headass', 1), ('lil_sugarplum', 1), ('achtergelaten', 1), ('eindhovenaar', 1), ('d_levy', 1), ('bbw', 1), ('ontvang', 1), ('inspecteur', 1), ('deurmat', 1), ('mateloos', 1), ('jsyw', 1), ('plaat', 1), ('leerjaar', 1), ('lovergirl', 1), ('wijk', 1), ('500', 1), ('enhuush', 1), ('zeer', 1), ('aa', 1), ('ac', 1), ('ab', 1), ('popidool', 1), ('ad', 1), ('ai', 1), ('deel', 1), ('ar', 1), ('leerwerk', 1), ('wandelingske', 1), ('huidige', 1), ('az', 1), ('ushua\\xc3\\xafa', 1), ('https://t.co/z4vok2gwds', 1), ('yoga', 1), ('vergeet', 1), ('jvmv', 1), ('wachin', 1), ('puppy', 1), ('poor', 1), ('polar', 1), ('trekt', 1), ('oudaden', 1), ('transitie', 1), ('ringversterkers', 1), ('donewithit', 1), ('he-le-maal', 1), ('hqgrn', 1), ('vertel', 1), ('foert', 1), ('vakblad', 1), ('nachtmerrie', 1), ('havenloods', 1), ('geslapen', 1), ('maaddie', 1), ('wr', 1), ('adam', 1), ('prijs', 1), ('herstelwerkzaamheden', 1), ('all', 1), ('sch', 1), ('beschuldigen', 1), ('4e8', 1), ('luister', 1), ('follow', 1), ('4e5', 1), ('misschien', 1), ('blasfemie', 1), ('bellingen', 1), ('frisse', 1), ('ov-leed', 1), ('ty', 1), ('aaron', 1), ('nord', 1), ('tf', 1), ('4ei', 1), ('minder', 1), ('4el', 1), ('podre', 1), ('voorrang', 1), ('uwv', 1), ('twentestel', 1), ('fag', 1), ('examens', 1), ('luka_osa', 1), ('96ez', 1), ('locatie', 1), ('gerrard', 1), ('dekerkgeloofgod', 1), ('t.', 1), ('-1', 1), ('-3', 1), ('onsmakelijke', 1), ('programma', 1), ('tel', 1), ('pop_food', 1), ('markeringen', 1), ('zesenveertig', 1), ('getrokken', 1), ('haal', 1), ('tes', 1), ('harden', 1), ('besteld', 1), ('milj', 1), ('vroeger', 1), ('dietzel', 1), ('ontdekken', 1), ('handig', 1), ('movedon', 1), ('irak', 1), ('cr\\xc3\\xa8me', 1), ('ana_lauraaaax', 1), ('limburg', 1), ('creampie', 1), ('metal\\xf0\\x9f\\x92\\x80\\xf0\\x9f\\x94\\xa5\\xf0\\x9f\\x94\\xa5', 1), ('benen', 1), ('dagvaardenzalikje', 1), ('kiezerswinst', 1), ('trepcen', 1), ('rammelkarren', 1), ('comcom.nl', 1), ('pompstation', 1), ('mister_bram', 1), ('eraf', 1), ('3e5', 1), ('ikwiljenooitmeerzien', 1), ('zonnebaden', 1), ('huid', 1), ('rickenbach', 1), ('kwartet', 1), ('vir', 1), ('rkf', 1), ('openstaande', 1), ('3e,', 1), ('weekendje', 1), ('ctrl', 1), ('two', 1), ('narcisme', 1), ('daarin', 1), ('gewaardeerde', 1), ('blijven', 1), ('taken', 1), ('rhee', 1), ('espanyol', 1), ('israel', 1), ('gehoopt', 1), ('autoriteiten', 1), ('aftuigen', 1), ('brullen', 1), ('basically', 1), ('schweiz', 1), ('tees', 1), ('socials', 1), ('damien', 1), ('nina', 1), ('iedereen', 1), ('4:00', 1), ('den', 1), ('v', 1), ('houo', 1), ('???????!', 1), ('427', 1), ('zoekactie', 1), ('diosproveera', 1), ('\\xc5\\x84', 1), ('verhalen', 1), ('opsporingverzocht', 1), ('hogere', 1), ('installatietechniek', 1), ('bekend', 1), ('ondertiteld', 1), ('dress', 1), ('needs', 1), ('court', 1), ('opererende', 1), ('overkomt', 1), ('sweettalker', 1), ('jesuicharlie', 1), ('bestrijden', 1), ('dromen', 1), ('stemming', 1), ('gehandicapten', 1), ('wachten', 1), ('fu', 1), ('hitchinelli', 1), ('onbegrijpelijk', 1), ('afkeer', 1), ('voluit', 1), ('woordenboek', 1), ('heuvel', 1), ('854e9', 1), ('bahaha', 1), ('samenwerkingspartner', 1), ('fm', 1), ('-55', 1), ('eofdc', 1), ('joods', 1), ('heroische', 1), ('bewoners', 1), ('buns', 1), ('windsnelheid', 1), ('goedkoper', 1), ('jongen', 1), ('liggen', 1), ('???', 1), ('besloten', 1), ('presenteren', 1), ('hyderabad', 1), ('supersnelle', 1), ('dief', 1), ('telkens', 1), ('vanbinnen', 1), ('hell', 1), ('kwintes', 1), ('hxnsjsksjzksm', 1), ('x_missglc_x', 1), ('depay', 1), ('baas', 1), ('28', 1), ('89ek', 1), ('thuiswerken', 1), ('palestijn', 1), ('spruiten', 1), ('baal', 1), ('systems', 1), ('omww', 1), ('britonedirection', 1), ('uitziet', 1), ('good', 1), ('interraciel', 1), ('bonte', 1), ('flevoland', 1), ('teamtage', 1), ('hahahahahaha', 1), ('samson', 1), ('terrorism', 1), ('noconcentration', 1), ('zelden', 1), ('drake', 1), ('deceder', 1), ('legend', 1), ('mastered', 1), ('inherent', 1), ('kennis', 1), ('bahaksjsbzjs', 1), ('vult', 1), ('grontmij', 1), ('peterrdevries', 1), ('tentamens', 1), ('alweer', 1), ('bnat', 1), ('linnets', 1), ('nosso', 1), ('taalprobleem', 1), (';))', 1), ('robert', 1), ('kloten', 1), ('faneto\\xf0\\x9f\\x8e\\xa7\\xf0\\x9f\\x94\\xa5\\xf0\\x9f\\x92\\x89', 1), ('porno', 1), ('binnendienst', 1), ('naarik', 1), ('health', 1), ('cumshot', 1), ('170', 1), ('1.79', 1), ('domeinen', 1), ('rancune', 1), ('asb', 1), ('practice\\xf0\\x9f\\x8f\\x80\\xf0\\x9f\\x92\\xaa\\xf0\\x9f\\x92\\xaf', 1), ('elleboog', 1), ('pup', 1), ('vervroegd', 1), ('leavemeoutofit', 1), ('telefoontjes', 1), ('dip', 1), ('terrible', 1), ('belgie', 1), ('sessie', 1), ('ouder', 1), ('ytshaf', 1), ('96646', 1), ('\\xc3\\xbclger', 1), ('duidelijk', 1), ('klokkie', 1), ('webcams', 1), ('dino', 1), ('coalitie', 1), ('wereldberoemd', 1), ('dingen', 1), ('gaweg', 1), ('kobe', 1), ('wegens', 1), ('pompje', 1), ('\\xf0\\x9f\\x91\\x80', 1), ('975', 1), ('wonderdad', 1), ('rails', 1), ('askip', 1), ('actualiteiten', 1), ('saint', 1), ('mama', 1), ('kor', 1), ('banana', 1), ('\\xf0\\x9f\\x91\\x85', 1), ('diaspro_o', 1), ('\\xf0\\x9f\\x98\\x91', 1), ('jamie', 1), ('\\xf0\\x9f\\x98\\x95', 1), ('ascr', 1), ('\\xf0\\x9f\\x98\\x8a', 1), ('\\xf0\\x9f\\x98\\x81', 1), ('afbeeldingen', 1), ('slutwife', 1), ('\\xf0\\x9f\\x98\\x85', 1), ('\\xf0\\x9f\\x98\\x84', 1), ('opiniepagina', 1), ('aad', 1), ('john', 1), ('sta', 1), ('wijsheidstanden', 1), ('legt', 1), ('\\xf0\\x9f\\x98\\xb1', 1), ('knapt', 1), ('lanceerders', 1), ('velden', 1), ('aap', 1), ('str', 1), ('outdoors', 1), ('w\\xc3\\xa9l', 1), ('teamskeet', 1), ('\\xf0\\x9f\\x98\\xa5', 1), ('shemale', 1), ('feestje', 1), ('\\xf0\\x9f\\x98\\x9a', 1), ('4ee', 1), ('jihadisten', 1), ('pedometer', 1), ('\\xf0\\x9f\\x98\\x98', 1), ('uniforme', 1), ('goeie', 1), ('gebeld', 1), ('mountain', 1), ('aanbiedingen', 1), ('gevraagd', 1), ('kraan', 1), ('koninklijke', 1), ('tmobile_webcare', 1), ('oplossing', 1), ('zegbestaandusecht', 1), ('wereldoorlog', 1), ('kak', 1), ('parkeerwacht', 1), ('realmadrid', 1), ('avondje', 1), ('74', 1), ('kat', 1), ('spontaan', 1), ('regeringsbeleid', 1), ('erdhhh', 1), ('bzv', 1), ('islamofastiscten', 1), ('65', 1), ('raad', 1), ('arriva_nl', 1), ('vervoer', 1), ('omtrent', 1), ('microsoft', 1), ('vragenuurtje', 1), ('verkeersdrempels', 1), ('gold', 1), ('gehersenspoeld', 1), ('blijf', 1), ('vader', 1), ('badhairday', 1), ('dataverkeer', 1), ('h\\xc3\\xa9', 1), ('kikmegirls', 1), ('lente-uidip', 1), ('ieeee', 1), ('ruim', 1), ('knmtde', 1), ('optimaforma', 1), ('doujin', 1), ('volksclub', 1), ('8', 1), ('pouaaaaah', 1), ('\\xf0\\x9f\\x91\\x8c\\xf0\\x9f\\x8e\\x89', 1), ('natie', 1), ('his', 1), ('drivinglicence', 1), ('luke', 1), ('volgende', 1), ('bedankt', 1), ('ilcf', 1), ('ziekenhuis', 1), ('soeppan', 1), ('vlgnde', 1), ('kayleisbs', 1), ('pffttt', 1), ('common', 1), ('servicemedewerkers', 1), ('geenstijl', 1), ('aandoet', 1), ('alleenstaande', 1), ('sollicitatiegesprek', 1), ('ser', 1), ('opkomst', 1), ('naked', 1), ('houd', 1), ('see', 1), ('blijft', 1), ('barf', 1), ('ari', 1), ('verloren', 1), ('retweet', 1), ('2.5', 1), ('aftrekken', 1), ('kleinste', 1), ('fontana', 1), ('2.14.15', 1), ('\\xf0\\x9f\\x98\\xa9', 1), ('moesten', 1), ('debat', 1), ('\\xf0\\x9f\\x94\\xa5\\xf0\\x9f\\x94\\xa5\\xf0\\x9f\\x94\\xa5\\xf0\\x9f\\x94\\xa5', 1), ('kwalitatieve', 1), ('spaarrekening', 1), ('hh', 1), ('android', 1), ('europa', 1), ('missing', 1), ('firmenregister', 1), ('opgepakt', 1), ('jicaela', 1), ('uub', 1), ('kutleven', 1), ('spookfietsers', 1), ('opan', 1), ('plaatsvond', 1), ('ophalen', 1), ('pdk', 1), ('koningabdullah', 1), ('appable', 1), ('\\xe2\\x98\\xb9', 1), ('afstandsbedieningen', 1), (');', 1), ('\\xe2\\x98\\xba', 1), ('foute', 1), ('03', 1), ('0172', 1), ('recycling', 1), ('kabinet', 1), ('lucht', 1), ('5e7', 1), ('[', 1), ('ihrhcmdldd', 1), ('devil', 1), ('geoefend', 1), ('opgelet', 1), ('autocorrect', 1), ('onwennig', 1), ('satire', 1), ('verwondt', 1), ('damn', 1), ('langzaaaaaam', 1), ('donker', 1), ('fictief', 1), ('geeft', 1), ('fietspaaltje', 1), ('gefeliciteerd', 1), ('chatten', 1), ('jorg', 1), ('gay', 1), ('geilegeert', 1), ('5ef', 1), ('gas', 1), ('mehmet', 1), ('meetrek', 1), ('raadsvergadering', 1), ('gaf', 1), ('opposite~', 1), ('manvrouw', 1), ('jasonrasmus', 1), ('look', 1), ('mlk', 1), ('aanleg', 1), ('heeyy', 1), ('gekunt', 1), ('richter', 1), ('xrt+', 1), ('frustraties', 1), ('von', 1), ('nlhfs', 1), ('gesignaleerd', 1), ('senioren', 1), ('aansturing', 1), ('34', 1), ('nogals', 1), ('eenvoudig', 1), ('pigtail', 1), ('878', 1), ('sturen', 1), ('popupblock', 1), ('vanja', 1), ('odegaard', 1), ('development', 1), ('gaghaajjjahaan', 1), ('ettertjes', 1), ('waterslide', 1), ('verian', 1), ('diegene', 1), ('nuttige', 1), ('hahahahahhahahah', 1), ('debatten', 1), ('doodvriezen', 1), ('pse', 1), ('overijssel', 1), ('rommel', 1), ('23:30', 1), ('katindezak', 1), ('21e', 1), ('redelijk', 1), ('1024.817', 1), ('joden', 1), ('boer', 1), ('twitt', 1), ('belgische', 1), ('belgium', 1), ('hjb', 1), ('cava', 1), ('simm', 1), ('betrokkenheid', 1), ('.86', 1), ('$', 1), ('tablet', 1), ('cup', 1), ('belangrijkste', 1), (\"jerry's\", 1), ('gericht', 1), ('starterslening', 1), ('tante', 1), (\"can't\", 1), ('6ea', 1), ('snap', 1), ('input', 1), ('weetj', 1), ('mogelijke', 1), ('profeet', 1), ('big', 1), ('bie', 1), ('unlimited', 1), ('zegevieren', 1), ('harde', 1), ('dubbele', 1), ('nottt', 1), ('vday', 1), ('slijmbal', 1), ('hahha', 1), ('instore', 1), ('janken', 1), ('opvoeding', 1), ('0ei', 1), ('gevaarlijke', 1), ('mexe', 1), ('0ec', 1), ('wensen', 1), ('ijs', 1), ('nochkad', 1), ('qlip', 1), ('duck', 1), ('back', 1), ('3.5', 1), ('economie', 1), ('wonderland', 1), ('luxe', 1), ('evajinek', 1), ('advocaat', 1), ('idzjsb', 1), ('kerstbomen', 1), ('aameen', 1), ('zacht', 1), ('bedoel', 1), ('laughing', 1), ('rua', 1), ('bi', 1), ('stel', 1), ('druktemelder', 1), ('gedragskundige', 1), ('afdruipt', 1), ('zdsa', 1), ('terreurdebat', 1), ('telmoment', 1), ('hahaha~', 1), ('idr', 1), ('\\xe2\\x99\\xa1\\xe2\\x98\\x86', 1), ('pechtold', 1), ('opeens', 1), ('idf', 1), ('slechte', 1), ('idd', 1), ('letterlijk', 1), ('verlengen', 1), ('zitten', 1), ('boegbeeld', 1), ('geluk', 1), ('nieuwegein', 1), ('gesrek', 1), ('lazm', 1), ('vaak', 1), ('doorzoekbare', 1), ('katie', 1), ('teflon', 1), ('openn', 1), ('libcrib', 1), ('leusden', 1), ('zwaar', 1), ('reden', 1), ('suis', 1), ('verzonden', 1), ('pabo', 1), ('leerkrachten', 1), ('naadloos', 1), ('opens', 1), ('bart', 1), ('himself', 1), ('regen', 1), ('giggling', 1), ('werkinbox', 1), ('tjonge', 1), ('isthatjessiej', 1), ('walgelijk', 1), ('\\xe2\\x99\\xa5', 1), ('syphon', 1), ('115', 1), ('nmbs', 1), ('ut', 1), ('up', 1), ('coderen', 1), ('ubermokke', 1), ('bever', 1), ('storing', 1), ('titel', 1), ('sneeuwen', 1), ('oog', 1), ('ongeluk', 1), ('lexxxi', 1), ('cafe', 1), ('%', 1), ('egdgames', 1), ('optellen', 1), ('nam', 1), ('gasbel', 1), ('zogezegd', 1), ('dm', 1), ('nat', 1), ('rocnation', 1), ('8ex', 1), ('nice', 1), ('missie', 1), ('hajaar', 1), ('durtaimbe', 1), ('afgrijselijk', 1), ('loveinground', 1), ('gekke', 1), ('hahaahahh', 1), ('kort', 1), ('gaswinning', 1), ('\\xef\\xbc\\x8f', 1), ('lieve', 1), ('hln_be', 1), ('youtube', 1), ('bozetweetshelpenaltijd', 1), ('monik', 1), ('eentje', 1), ('sjeest', 1), ('2005', 1), (\"she's\", 1), ('agt', 1), ('ruyt', 1), ('bvr', 1), ('zoet', 1), ('code', 1), ('vangt', 1), ('oeko-handels', 1), ('tweeten', 1), ('rotmans', 1), ('twijfel', 1), ('gezond', 1), ('simon', 1), ('nose', 1), ('helpt', 1), ('relaxt', 1), ('vaderzijnde', 1), ('knotje', 1), ('garden', 1), ('toenail', 1), ('luhound', 1), ('welkom', 1), ('bonnie', 1), ('vtmnieuws', 1), ('maan', 1), ('peiling', 1), ('mybabymaureen', 1), ('melding', 1), ('uitchecken', 1), ('-2.4', 1), ('shock', 1), ('deals', 1), ('avondspits', 1), ('jaren', 1), ('bxl', 1), ('ahahahaha', 1), ('kauderwelsch', 1), ('aanvallen', 1), ('zh', 1), ('ceyng', 1), ('veld', 1), ('gerust', 1), ('waking', 1), ('recruitment', 1), ('jdjdjjd', 1), ('kotsbeu', 1), ('zu', 1), ('hemmings', 1), ('nieuwsmakers', 1), ('meldingen', 1), ('hoef', 1), ('hhahahaha', 1), ('firma', 1), ('fanclub', 1), ('siwonlover', 1), ('fonteintje', 1), ('https://t.co/wttw3woqsj', 1), ('susanne', 1), ('lustvolles', 1), ('3e', 1), ('body', 1), ('goedemorgen', 1), ('444', 1), ('les', 1), ('let', 1), ('potjes', 1), ('\\xf0\\x9f\\x94\\x89', 1), ('697', 1), ('morgenavond', 1), ('39', 1), ('talent', 1), ('broken', 1), ('kzie', 1), ('leaving', 1), (\"weren't\", 1), ('buurtkamer', 1), ('skoot', 1), ('verkeerd', 1), ('zzzzzzzzzzzzzzzzzzzzzzzzzzzz', 1), ('redt', 1), ('wim', 1), ('ellende', 1), ('rotflmfao', 1), ('groupsex', 1), ('jeferson_veg', 1), ('michiel', 1), ('lkddv', 1), ('betrokken', 1), ('omophagist', 1), ('........', 1), ('vught', 1), ('gateway', 1), ('brimstone', 1), ('fed', 1), ('z\\xc3\\xa9ker', 1), ('besten', 1), ('durfde', 1), ('alessandria', 1), ('schijf', 1), ('snackers', 1), ('gimmegimmegimme', 1), ('vlijmscherp', 1), ('stage', 1), ('baba', 1), ('communicatieadviseur', 1), ('babe', 1), ('iis', 1), ('pff', 1), ('prachtige', 1), ('buitenlander', 1), ('gein', 1), ('billen', 1), ('openbaar', 1), ('zelfde', 1), ('omzeep', 1), ('foutloos', 1), ('orkest', 1), ('siwon', 1), ('f', 1), ('package', 1), ('misfits', 1), ('jazzpunk', 1), ('welzijn', 1), ('circulatie', 1), ('geil', 1), ('villian', 1), ('09.00', 1), ('naffie', 1), ('bones', 1), ('ouderkorting', 1), ('alsof', 1), ('nipo', 1), ('genomen', 1), ('hefwerktuigen', 1), ('fuuuuuuckxkskk', 1), ('oz', 1), ('ooiiii', 1), ('izzo', 1), ('knmt', 1), ('hahahahh', 1), ('moetie', 1), ('schrijven', 1), ('chinx', 1), ('tourduvinex', 1), ('toneelstuk', 1), ('rmfc', 1), ('deranged', 1), ('isso', 1), ('jan_lely', 1), ('moeilik', 1), ('werkveld', 1), ('rechtstaat', 1), ('hudtloff', 1), ('blacknwhite', 1), ('nieuw', 1), ('gekomen', 1), ('eindzin', 1), ('130', 1), ('draghinomics', 1), ('perfect', 1), ('zoeken', 1), ('islamofobie', 1), ('wtffff', 1), ('ll', 1), (\"taxi's\", 1), ('melkveehouderij', 1), ('weber', 1), ('haalt', 1), ('dopemix', 1), ('illegaal', 1), ('tijden', 1), ('dar', 1), ('koffiethee', 1), ('snappppp\\xe2\\x9c\\x8b', 1), ('!.', 1), ('negatief', 1), ('veedeoh', 1), ('figuur', 1), ('eikels', 1), ('zichzelf', 1), ('mmpu', 1), ('2et', 1), ('sim', 1), ('oosterse', 1), (\"programma's\", 1), ('teruggekomen', 1), ('zometeen', 1), ('identiteit', 1), ('waardevolle', 1), ('serbis', 1), ('85', 1), ('gekozen', 1), ('borderline', 1), ('kids', 1), ('sjezus', 1), ('amstergram', 1), ('opvattingsprobleem', 1), ('weeral', 1), ('beschuldigd', 1), ('exporting', 1), ('bekennen', 1), ('gevalle', 1), ('snl', 1), ('piggy', 1), ('klaarwakker', 1), ('frank', 1), ('verdubbelen', 1), ('psv', 1), ('maatschappij', 1), ('-18', 1), ('7eb', 1), ('hunny', 1), ('schatje', 1), ('7ee', 1), ('keep', 1), ('middenweg', 1), ('bekijk', 1), ('zomer', 1), ('shrek', 1), ('omhoog', 1), ('nieminen', 1), ('sunniewitdatyea', 1), ('totalitaire', 1), ('pgn', 1), ('rotterdammer', 1), ('hey', 1), ('exact', 1), ('draad', 1), ('1e7', 1), ('such', 1), ('cordaan', 1), ('prank', 1), ('gem_rijswijk', 1), ('droop', 1), ('lalalaatrockbottom', 1), ('logica', 1), ('accent', 1), ('2.000', 1), ('-0801', 1), ('zorigoo', 1), ('laag', 1), ('norton', 1), ('1ee', 1), ('klemm', 1), ('boemel', 1), ('1644', 1), ('brandgevaar', 1), ('benaming', 1), ('schandalige', 1), ('bevriezen', 1), ('brengen', 1), ('waaaaalll', 1), ('onnnnnnnde', 1), ('lamborghini', 1), ('dutje', 1), ('bel', 1), ('skireis', 1), ('phonesex', 1), ('oorlog', 1), ('redenen', 1), ('winst', 1), ('rmaatm', 1), ('blie', 1), ('opzettelijk', 1), ('bisexual', 1), ('ongeacht', 1), ('robot', 1), ('winkelen', 1), ('kleffe', 1), ('erdoor', 1), ('close', 1), ('ibiza', 1), ('ldkkdkkkkdkjkeieirorpptotppelldpepkdlkdklldlloorlpolll', 1), ('awel', 1), ('uitgerekend', 1), ('gegevens', 1), ('mie', 1), ('serieus', 1), ('wildwetpussy', 1), ('323', 1), ('sei', 1), ('linda', 1), ('lily', 1), ('beyond', 1), ('bewolkt', 1), ('klus', 1), ('vuige', 1), ('01', 1), ('eight', 1), ('awh', 1), ('buitengesloten', 1), ('schijfruimte', 1), ('herman', 1), ('volunteers', 1), ('05', 1), ('stripbar', 1), ('betere', 1), ('vrijheden', 1), ('cks', 1), ('isra\\xc3\\xabl', 1), ('skinny', 1), ('gedeelte', 1), ('wow', 1), ('urghhh', 1), ('wereldwijd', 1), ('dijk', 1), ('infrastructuur', 1), ('aanstaande', 1), ('bj\\xc3\\xb6rk\\xe2\\x80\\x99s', 1), ('keihard', 1), ('gewapend', 1), ('lsd', 1), ('nogashi', 1), ('zondig', 1), ('krijgen', 1), ('bedroom', 1), ('gooien', 1), ('chicken', 1), ('feat', 1), ('supporter', 1), ('aaahaam', 1), ('ideologisch', 1), ('95.000', 1), ('megastallen', 1), ('winnen', 1), ('gawie', 1), ('toekomstbeeld', 1), ('censureren', 1), ('begonnen', 1), ('spul', 1), ('\\xf0\\x9f\\x94\\xab', 1), ('follwme', 1), ('daje', 1), ('abbo', 1), ('klassieker', 1), ('tbt', 1), ('bonde', 1), ('timing', 1), ('amper', 1), ('aken', 1), ('kopt', 1), ('spijt', 1), ('grrrr', 1), ('politieactie', 1), ('foutjes', 1), ('neerzet', 1), ('gras', 1), ('mohammed', 1), ('hamasvrienden', 1), ('hatersgonnahate', 1), ('gemist', 1), ('hafsa', 1), ('klappen', 1), ('vdd', 1), ('widow', 1), ('commissie', 1), ('bef', 1), ('hornyskype', 1), ('ov', 1), ('\\xe2\\x9d\\x84\\xf0\\x9f\\x9a\\x97', 1), ('opnieuw', 1), ('worsnop', 1), ('pop-ups', 1), ('nightmare', 1), ('jesuischarlie', 1), ('punt', 1), ('state', 1), ('supernatural', 1), ('fxqs', 1), ('lul', 1), ('lsvrbr', 1), ('chemie', 1), ('moeder', 1), ('teddybeer', 1), ('pantijn', 1), ('zieke', 1), ('job', 1), ('onderdeel', 1), ('negeert', 1), ('wh', 1), ('zingen', 1), ('tittyfuck', 1), ('mazda', 1), ('druk', 1), ('joke', 1), ('klinkt', 1), ('comment', 1), ('etc', 1), ('hahahahhaha', 1), ('elfvoetbal', 1), ('rach_aka_deej', 1), ('drugz-hitta', 1), ('efespilsen', 1), ('gestuurd', 1), ('dolgelukkig', 1), ('ameiiiiiiiii', 1), ('gorgeous', 1), ('christen', 1), ('co', 1), ('commercieel', 1), ('geleen', 1), ('opdrachtgever', 1), ('sexylady', 1), ('gezin', 1), ('cd', 1), ('stomme', 1), ('tarde', 1), ('respect', 1), (\"gogh's\", 1), ('cu', 1), ('domian', 1), ('ag', 1), ('projectleider', 1), ('bbb', 1), ('kelder', 1), ('ruikt', 1), ('ajafey', 1), ('keuze', 1), (':$', 1), ('responde', 1), ('gieren', 1), ('angkiemsoei', 1), ('loopt', 1), ('edsheeran_sing_radioedit_ref', 1), ('tweets', 1), ('schoolwerk', 1), ('keren', 1), ('moslimhaat', 1), ('smoking', 1), ('pig', 1), ('hoeven', 1), ('daarnet', 1), ('zoom-nikkor', 1), ('logisch', 1), ('novel', 1), ('motief', 1), ('zwolle', 1), ('as', 1), ('will', 1), ('intro', 1), ('2013', 1), ('externe', 1), ('enkel', 1), ('~', 1), ('vc', 1), ('vk', 1), ('ietsbuitenons', 1), ('capdevila', 1), ('partynextdoor', 1), ('versterkt', 1), ('terrorist', 1), ('doorweekt', 1), ('sextamix', 1), (\"bayern's\", 1), ('itssss', 1), ('foxx', 1), ('lancering', 1), ('digging', 1), ('slechtste', 1), ('party', 1), ('samsom', 1), ('vicepremier', 1), ('overal', 1), ('afspraken', 1), ('zorra', 1), ('iow', 1), ('verviers', 1), ('peil', 1), ('8eo', 1), ('8ei', 1), ('8eu', 1), ('verkeersveiligheid', 1), ('ikea', 1), ('php', 1), ('raymann', 1), ('middenin', 1), ('uitgedrukt', 1), ('vond-ie', 1), ('welk', 1), ('multiculturele', 1), ('gedacht', 1), ('lierse', 1), ('-203', 1), ('herinneringen', 1), ('stoner_xpress', 1), ('ofz', 1), ('worldwideawards', 1), ('inc.', 1), ('graspop', 1), ('bovenburen', 1), ('rachei', 1), ('geert', 1), ('ameyyyyzingggg', 1), ('vist', 1), ('marokkanen', 1), ('web', 1), ('titty', 1), ('n\\xc3\\xa9t', 1), ('martingarrix', 1), ('kamps', 1), ('nergens', 1), ('mellanie', 1), ('mariaparochie', 1), ('kastje', 1), ('jeugdzorg', 1), ('verbrand', 1), ('dernot', 1), ('pants', 1), ('beuki', 1), ('scribblenauts', 1), ('eerderbedoeld', 1), ('bevordering', 1), ('jstcslupped', 1), ('dubai', 1), ('kevan', 1), ('heey', 1), ('sinds', 1), ('aangrijpen', 1), ('thuiszorgbestuurders', 1), ('martin', 1), ('meike_smash', 1), ('werkvloer', 1), ('fundamenteel', 1), ('kijkende', 1), ('reacties', 1), ('brian', 1), ('vraag', 1), ('lola', 1), ('peter', 1), ('dage', 1), ('poot', 1), ('vrii', 1), ('leak', 1), ('escapists', 1), ('grinding', 1), ('dots', 1), ('wendy', 1), ('helft', 1), (':-p', 1), ('dagy', 1), ('terwijliedernugodsperfectie', 1), ('mode', 1), ('jongeren', 1), ('harbrinkhoek', 1), ('gerco', 1), ('japans', 1), ('slut', 1), ('jack', 1), ('extremesporter', 1), ('snappen', 1), ('ganhar', 1), ('aangevallen', 1), ('banaan', 1), ('vocht', 1), ('mellie', 1), ('gluren', 1), (':-(', 1), ('temperatuur', 1), ('gesien', 1), ('prachtig', 1), ('duo', 1), ('langer', 1), ('gro', 1), ('bi_laws', 1), ('webgate', 1), ('software', 1), ('donderdagavond', 1), ('owh', 1), ('doodschieten', 1), ('telegraaf', 1), ('gedraaid', 1), ('geplaatste', 1), ('vertraging', 1), ('whiteghetto', 1), ('merk', 1), ('unboxed', 1), ('wakker', 1), ('acteren', 1), ('adres', 1), ('vam', 1), ('\\xf0\\x9f\\x8c\\xb8\\xf0\\x9f\\x8d\\x83', 1), ('cambuur', 1), ('blegh', 1), ('lastiger', 1), ('maze', 1), ('ugend', 1), ('aard', 1), ('appa', 1), ('feauteauf', 1), ('pixie', 1), ('glis', 1), ('lelystad', 1), ('hi', 1), ('\\xf0\\x9f\\x91\\xae\\xf0\\x9f\\x94\\xab\\xe2\\x9d\\x97', 1), ('stakeholders', 1), ('ontwaakt', 1), ('ahahahha', 1), ('brandblaar', 1), ('record', 1), ('stories', 1), ('ey', 1), ('dame', 1), ('display', 1), ('olood', 1), ('anja', 1), ('voeren', 1), ('dreigingsniveau', 1), ('int', 1), ('durf', 1), ('ins', 1), ('twist', 1), ('girn', 1), ('erik', 1), ('verlichting', 1), ('girl', 1), ('oplossen', 1), ('schakelt', 1), ('fdw_vb', 1), ('49', 1), ('pedante', 1), ('47', 1), ('detail', 1), ('7,7', 1), ('gezeetn', 1), ('payforsex', 1), ('special', 1), ('deesdae', 1), ('5ed', 1), ('hpa', 1), ('juni', 1), ('g\\xc3\\xa9\\xc3\\xa9n', 1), ('siertooi', 1), ('kopen', 1), ('terreurdreiging', 1), ('passent', 1), ('buspassagiers', 1), ('aangeleerd', 1), ('badass', 1), ('rotopnaarjeeigenland', 1), ('heerlijk', 1), ('\\xe2\\x80\\x93', 1), ('arigold', 1), ('slaan', 1), ('irriteert', 1), ('meeste', 1)]\n"
       ]
      }
     ],
     "prompt_number": 851
    },
    {
     "cell_type": "heading",
     "level": 2,
     "metadata": {},
     "source": [
      "Pickle Load"
     ]
    },
    {
     "cell_type": "code",
     "collapsed": false,
     "input": [
      "# Getting back the objects:\n",
      "with open('results_854.pickle') as f:\n",
      "    results_aggressive, results_non_aggressive = pickle.load(f)"
     ],
     "language": "python",
     "metadata": {},
     "outputs": [],
     "prompt_number": 642
    },
    {
     "cell_type": "code",
     "collapsed": false,
     "input": [
      "# Saving the objects:\n",
      "with open('results_479.pickle', 'w') as f:\n",
      "    pickle.dump([results_aggressive, results_non_aggressive], f)"
     ],
     "language": "python",
     "metadata": {},
     "outputs": [],
     "prompt_number": 94
    }
   ],
   "metadata": {}
  }
 ]
}